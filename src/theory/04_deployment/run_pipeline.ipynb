{
 "cells": [
  {
   "cell_type": "code",
   "execution_count": null,
   "metadata": {},
   "outputs": [],
   "source": [
    "import warnings\n",
    "warnings.filterwarnings('ignore')"
   ]
  },
  {
   "cell_type": "code",
   "execution_count": null,
   "metadata": {},
   "outputs": [],
   "source": [
    "import os\n",
    "\n",
    "from datetime import datetime\n",
    "import pytz\n",
    "\n",
    "from kfp import compiler\n",
    "from google.cloud import aiplatform\n",
    "\n",
    "from training_pipeline import pipeline"
   ]
  },
  {
   "cell_type": "code",
   "execution_count": null,
   "metadata": {},
   "outputs": [],
   "source": [
    "from dotenv import load_dotenv\n",
    "load_dotenv()\n",
    "\n",
    "# Project variables:\n",
    "PROJECT_ID=os.getenv('PROJECT_ID')\n",
    "BUCKET_NAME=os.getenv('BUCKET_NAME')\n",
    "USER=os.getenv('USER')\n",
    "LOCATION=os.getenv('LOCATION')\n",
    "SERVICE_ACCOUNT=os.getenv('SERVICE_ACCOUNT')"
   ]
  },
  {
   "cell_type": "code",
   "execution_count": null,
   "metadata": {},
   "outputs": [],
   "source": [
    "compiler.Compiler().compile(pipeline, package_path='pipeline.yaml')"
   ]
  },
  {
   "cell_type": "code",
   "execution_count": null,
   "metadata": {},
   "outputs": [
    {
     "name": "stdout",
     "output_type": "stream",
     "text": [
      "Creating PipelineJob\n",
      "PipelineJob created. Resource name: projects/532579765435/locations/us-central1/pipelineJobs/pipeline-log-reg-20231015215155\n",
      "To use this PipelineJob in another session:\n",
      "pipeline_job = aiplatform.PipelineJob.get('projects/532579765435/locations/us-central1/pipelineJobs/pipeline-log-reg-20231015215155')\n",
      "View Pipeline Job:\n",
      "https://console.cloud.google.com/vertex-ai/locations/us-central1/pipelines/runs/pipeline-log-reg-20231015215155?project=532579765435\n"
     ]
    }
   ],
   "source": [
    "# Job parameters:\n",
    "tz = pytz.timezone(\"US/Eastern\")\n",
    "EXECUTION_TS = datetime.now(tz).strftime(\"%Y-%m-%d %H:%M:%S\")\n",
    "DISPLAY_NAME = \"pipeline-log-reg-{}\".format(EXECUTION_TS)\n",
    "PIPELINE_ROOT = \"gs://{}/04_deployment/pipeline_root\".format(BUCKET_NAME)\n",
    "\n",
    "# Pipeline input parameters:\n",
    "data_gcs_uri = f\"gs://{BUCKET_NAME}/02_churn_prediction/WA_Fn-UseC_-Telco-Customer-Churn.csv\"\n",
    "\n",
    "numerical = ['tenure', 'monthlycharges']\n",
    "categorical = [ 'gender',\n",
    "                'seniorcitizen',\n",
    "                'partner',\n",
    "                'dependents',\n",
    "                'phoneservice',\n",
    "                'multiplelines',\n",
    "                'internetservice',\n",
    "                'onlinesecurity',\n",
    "                'onlinebackup',\n",
    "                'deviceprotection',\n",
    "                'techsupport',\n",
    "                'streamingtv',\n",
    "                'streamingmovies',\n",
    "                'contract',\n",
    "                'paperlessbilling',\n",
    "                'paymentmethod',\n",
    "                ]\n",
    "label = \"churn\"\n",
    "# Running:\n",
    "job = aiplatform.PipelineJob(\n",
    "        display_name=DISPLAY_NAME,\n",
    "        template_path='pipeline.yaml',\n",
    "        pipeline_root=PIPELINE_ROOT,\n",
    "        enable_caching=True,\n",
    "        project=PROJECT_ID,\n",
    "        location=LOCATION,\n",
    "        labels={\"user\": USER},\n",
    "        parameter_values={\n",
    "            \"project_id\": PROJECT_ID, \n",
    "            \"data_gcs_uri\": data_gcs_uri,\n",
    "            \"cat_features\": categorical,\n",
    "            \"num_features\": numerical,\n",
    "            \"label\": label,\n",
    "        },\n",
    ")\n",
    "\n",
    "job.submit(service_account=SERVICE_ACCOUNT)"
   ]
  },
  {
   "cell_type": "code",
   "execution_count": null,
   "metadata": {},
   "outputs": [],
   "source": [
    "pipeline_df = aiplatform.get_pipeline_df(pipeline=\"pipeline-log-reg\")"
   ]
  },
  {
   "cell_type": "code",
   "execution_count": null,
   "metadata": {},
   "outputs": [
    {
     "data": {
      "text/html": [
       "<div>\n",
       "<style scoped>\n",
       "    .dataframe tbody tr th:only-of-type {\n",
       "        vertical-align: middle;\n",
       "    }\n",
       "\n",
       "    .dataframe tbody tr th {\n",
       "        vertical-align: top;\n",
       "    }\n",
       "\n",
       "    .dataframe thead th {\n",
       "        text-align: right;\n",
       "    }\n",
       "</style>\n",
       "<table border=\"1\" class=\"dataframe\">\n",
       "  <thead>\n",
       "    <tr style=\"text-align: right;\">\n",
       "      <th></th>\n",
       "      <th>pipeline_name</th>\n",
       "      <th>run_name</th>\n",
       "      <th>param.input:num_features</th>\n",
       "      <th>param.input:cat_features</th>\n",
       "      <th>param.input:project_id</th>\n",
       "      <th>param.input:data_gcs_uri</th>\n",
       "      <th>param.input:label</th>\n",
       "      <th>param.vertex-ai-pipelines-artifact-argument-binding</th>\n",
       "      <th>metric.auc</th>\n",
       "      <th>metric.mean_auc</th>\n",
       "      <th>metric.std_auc</th>\n",
       "    </tr>\n",
       "  </thead>\n",
       "  <tbody>\n",
       "    <tr>\n",
       "      <th>0</th>\n",
       "      <td>pipeline-log-reg</td>\n",
       "      <td>pipeline-log-reg-20231015215155</td>\n",
       "      <td>[tenure, monthlycharges]</td>\n",
       "      <td>[gender, seniorcitizen, partner, dependents, p...</td>\n",
       "      <td>dz-learning-d</td>\n",
       "      <td>gs://dz-d-stg-us-ml-zoomcamp/02_churn_predicti...</td>\n",
       "      <td>churn</td>\n",
       "      <td>{'output:evaluate-out_metrics': ['projects/532...</td>\n",
       "      <td>0.856645</td>\n",
       "      <td>0.839588</td>\n",
       "      <td>0.00673</td>\n",
       "    </tr>\n",
       "  </tbody>\n",
       "</table>\n",
       "</div>"
      ],
      "text/plain": [
       "      pipeline_name                         run_name  \\\n",
       "0  pipeline-log-reg  pipeline-log-reg-20231015215155   \n",
       "\n",
       "   param.input:num_features  \\\n",
       "0  [tenure, monthlycharges]   \n",
       "\n",
       "                            param.input:cat_features param.input:project_id  \\\n",
       "0  [gender, seniorcitizen, partner, dependents, p...          dz-learning-d   \n",
       "\n",
       "                            param.input:data_gcs_uri param.input:label  \\\n",
       "0  gs://dz-d-stg-us-ml-zoomcamp/02_churn_predicti...             churn   \n",
       "\n",
       "  param.vertex-ai-pipelines-artifact-argument-binding  metric.auc  \\\n",
       "0  {'output:evaluate-out_metrics': ['projects/532...     0.856645   \n",
       "\n",
       "   metric.mean_auc  metric.std_auc  \n",
       "0         0.839588         0.00673  "
      ]
     },
     "execution_count": null,
     "metadata": {},
     "output_type": "execute_result"
    }
   ],
   "source": [
    "pipeline_df.head(1)"
   ]
  },
  {
   "cell_type": "markdown",
   "metadata": {},
   "source": [
    "For more information on how to log and compare metrics read: [metrics viz run compare notebook](https://github.com/GoogleCloudPlatform/vertex-ai-samples/blob/main/notebooks/official/pipelines/metrics_viz_run_compare_kfp.ipynb)."
   ]
  },
  {
   "cell_type": "code",
   "execution_count": null,
   "metadata": {},
   "outputs": [],
   "source": []
  }
 ],
 "metadata": {
  "kernelspec": {
   "display_name": "env-ml-zoomcamp",
   "language": "python",
   "name": "env-ml-zoomcamp"
  }
 },
 "nbformat": 4,
 "nbformat_minor": 4
}
