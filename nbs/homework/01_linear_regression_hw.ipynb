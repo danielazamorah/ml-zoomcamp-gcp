{
 "cells": [
  {
   "cell_type": "code",
   "execution_count": null,
   "id": "02717d73-2336-4a56-bbb3-8f7b639ecbe9",
   "metadata": {},
   "outputs": [],
   "source": [
    "import warnings\n",
    "warnings.filterwarnings('ignore')"
   ]
  },
  {
   "cell_type": "markdown",
   "id": "43b1542f-14c5-44fa-a909-025e4d4ba562",
   "metadata": {},
   "source": [
    "## Homework\n",
    "\n",
    "### Dataset\n",
    "\n",
    "In this homework, we will use the California Housing Prices from [Kaggle](https://www.kaggle.com/datasets/camnugent/california-housing-prices).\n",
    "\n",
    "We had already downloaded the data to GCS for last week's homework, so today we created a BigQuery table for it.\n",
    "\n",
    "### EDA"
   ]
  },
  {
   "cell_type": "code",
   "execution_count": null,
   "id": "d5148c5e-d6da-4623-b37e-4c3160187f98",
   "metadata": {},
   "outputs": [
    {
     "data": {
      "application/vnd.jupyter.widget-view+json": {
       "model_id": "9283990709104edaa813ce8c03d5c9e8",
       "version_major": 2,
       "version_minor": 0
      },
      "text/plain": [
       "HTML(value='Query job 0f987a64-0f90-43a2-8950-8eb41f9afb6e is RUNNING. <a target=\"_blank\" href=\"https://consol…"
      ]
     },
     "metadata": {},
     "output_type": "display_data"
    }
   ],
   "source": [
    "# LOADING THE DATA:\n",
    "import bigframes.pandas as bpd\n",
    "\n",
    "# Variables\n",
    "PROJECT_ID = 'dz-learning-d'\n",
    "DATASET = 'ML_ZOOMCAMP_HW'\n",
    "TABLE = 'HOUSING'\n",
    "BUCKET_NAME = 'dz-d-stg-us-ml-zoomcamp'\n",
    "\n",
    "bpd.options.bigquery.project = PROJECT_ID\n",
    "df = bpd.read_gbq(f\"{PROJECT_ID}.{DATASET}.{TABLE}\")"
   ]
  },
  {
   "cell_type": "code",
   "execution_count": null,
   "id": "64350348-8c16-49f3-9894-33160ac2ce13",
   "metadata": {},
   "outputs": [
    {
     "data": {
      "application/vnd.jupyter.widget-view+json": {
       "model_id": "46295740a5974771b773176cd06bebba",
       "version_major": 2,
       "version_minor": 0
      },
      "text/plain": [
       "HTML(value='Query job 9cc650ed-f648-4e6f-9c81-28aa02916125 is DONE. 165.1 kB processed. <a target=\"_blank\" hre…"
      ]
     },
     "metadata": {},
     "output_type": "display_data"
    },
    {
     "data": {
      "application/vnd.jupyter.widget-view+json": {
       "model_id": "5bf1f57b4e7b4dfab9440cfa8d5e2643",
       "version_major": 2,
       "version_minor": 0
      },
      "text/plain": [
       "HTML(value='Query job 62a8b168-0e70-47a5-b0e1-aaa1d606b5b4 is DONE. 1.9 MB processed. <a target=\"_blank\" href=…"
      ]
     },
     "metadata": {},
     "output_type": "display_data"
    },
    {
     "data": {
      "text/html": [
       "<div>\n",
       "<style scoped>\n",
       "    .dataframe tbody tr th:only-of-type {\n",
       "        vertical-align: middle;\n",
       "    }\n",
       "\n",
       "    .dataframe tbody tr th {\n",
       "        vertical-align: top;\n",
       "    }\n",
       "\n",
       "    .dataframe thead th {\n",
       "        text-align: right;\n",
       "    }\n",
       "</style>\n",
       "<table border=\"1\" class=\"dataframe\">\n",
       "  <thead>\n",
       "    <tr style=\"text-align: right;\">\n",
       "      <th></th>\n",
       "      <th>longitude</th>\n",
       "      <th>latitude</th>\n",
       "      <th>housing_median_age</th>\n",
       "      <th>total_rooms</th>\n",
       "      <th>total_bedrooms</th>\n",
       "      <th>population</th>\n",
       "      <th>households</th>\n",
       "      <th>median_income</th>\n",
       "      <th>median_house_value</th>\n",
       "      <th>ocean_proximity</th>\n",
       "    </tr>\n",
       "  </thead>\n",
       "  <tbody>\n",
       "    <tr>\n",
       "      <th>0</th>\n",
       "      <td>-116.0</td>\n",
       "      <td>33.19</td>\n",
       "      <td>16.0</td>\n",
       "      <td>245.0</td>\n",
       "      <td>57.0</td>\n",
       "      <td>81.0</td>\n",
       "      <td>33.0</td>\n",
       "      <td>1.2639</td>\n",
       "      <td>51300.0</td>\n",
       "      <td>INLAND</td>\n",
       "    </tr>\n",
       "    <tr>\n",
       "      <th>1</th>\n",
       "      <td>-116.0</td>\n",
       "      <td>32.74</td>\n",
       "      <td>26.0</td>\n",
       "      <td>1134.0</td>\n",
       "      <td>280.0</td>\n",
       "      <td>329.0</td>\n",
       "      <td>158.0</td>\n",
       "      <td>1.4338</td>\n",
       "      <td>43900.0</td>\n",
       "      <td>INLAND</td>\n",
       "    </tr>\n",
       "    <tr>\n",
       "      <th>2</th>\n",
       "      <td>-116.0</td>\n",
       "      <td>34.12</td>\n",
       "      <td>32.0</td>\n",
       "      <td>3163.0</td>\n",
       "      <td>712.0</td>\n",
       "      <td>1358.0</td>\n",
       "      <td>544.0</td>\n",
       "      <td>2.125</td>\n",
       "      <td>57700.0</td>\n",
       "      <td>INLAND</td>\n",
       "    </tr>\n",
       "    <tr>\n",
       "      <th>3</th>\n",
       "      <td>-120.0</td>\n",
       "      <td>38.52</td>\n",
       "      <td>16.0</td>\n",
       "      <td>3045.0</td>\n",
       "      <td>543.0</td>\n",
       "      <td>202.0</td>\n",
       "      <td>102.0</td>\n",
       "      <td>3.15</td>\n",
       "      <td>140600.0</td>\n",
       "      <td>INLAND</td>\n",
       "    </tr>\n",
       "    <tr>\n",
       "      <th>4</th>\n",
       "      <td>-120.0</td>\n",
       "      <td>38.93</td>\n",
       "      <td>17.0</td>\n",
       "      <td>8005.0</td>\n",
       "      <td>1382.0</td>\n",
       "      <td>999.0</td>\n",
       "      <td>383.0</td>\n",
       "      <td>3.9722</td>\n",
       "      <td>313400.0</td>\n",
       "      <td>INLAND</td>\n",
       "    </tr>\n",
       "  </tbody>\n",
       "</table>\n",
       "<p>5 rows × 10 columns</p>\n",
       "</div>[5 rows x 10 columns in total]"
      ],
      "text/plain": [
       "   longitude  latitude  housing_median_age  total_rooms  total_bedrooms  \\\n",
       "0     -116.0     33.19                16.0        245.0            57.0   \n",
       "1     -116.0     32.74                26.0       1134.0           280.0   \n",
       "2     -116.0     34.12                32.0       3163.0           712.0   \n",
       "3     -120.0     38.52                16.0       3045.0           543.0   \n",
       "4     -120.0     38.93                17.0       8005.0          1382.0   \n",
       "\n",
       "   population  households  median_income  median_house_value ocean_proximity  \n",
       "0        81.0        33.0         1.2639             51300.0          INLAND  \n",
       "1       329.0       158.0         1.4338             43900.0          INLAND  \n",
       "2      1358.0       544.0          2.125             57700.0          INLAND  \n",
       "3       202.0       102.0           3.15            140600.0          INLAND  \n",
       "4       999.0       383.0         3.9722            313400.0          INLAND  \n",
       "\n",
       "[5 rows x 10 columns]"
      ]
     },
     "execution_count": null,
     "metadata": {},
     "output_type": "execute_result"
    }
   ],
   "source": [
    "df.head()"
   ]
  },
  {
   "cell_type": "code",
   "execution_count": null,
   "id": "dda55634-77b5-47f3-b9d8-5b19c58e0311",
   "metadata": {},
   "outputs": [
    {
     "data": {
      "text/plain": [
       "longitude                     Float64\n",
       "latitude                      Float64\n",
       "housing_median_age            Float64\n",
       "total_rooms                   Float64\n",
       "total_bedrooms                Float64\n",
       "population                    Float64\n",
       "households                    Float64\n",
       "median_income                 Float64\n",
       "median_house_value            Float64\n",
       "ocean_proximity       string[pyarrow]\n",
       "dtype: object"
      ]
     },
     "execution_count": null,
     "metadata": {},
     "output_type": "execute_result"
    }
   ],
   "source": [
    "df.dtypes"
   ]
  },
  {
   "cell_type": "markdown",
   "id": "d184f9ca-2ae6-4889-9a0a-88a709e5be2b",
   "metadata": {},
   "source": [
    "We'll work with pandas to reproduce homework results."
   ]
  },
  {
   "cell_type": "code",
   "execution_count": null,
   "id": "d35ffa10-bb97-4956-8e38-a688a33dd542",
   "metadata": {},
   "outputs": [
    {
     "data": {
      "application/vnd.jupyter.widget-view+json": {
       "model_id": "08cbed9e3e794e88bdcacc9ed1108ef5",
       "version_major": 2,
       "version_minor": 0
      },
      "text/plain": [
       "HTML(value='Query job 6782de1e-d1bf-42ef-b8a5-1c4d8360e47e is DONE. 1.9 MB processed. <a target=\"_blank\" href=…"
      ]
     },
     "metadata": {},
     "output_type": "display_data"
    }
   ],
   "source": [
    "df_pd = df.to_pandas()"
   ]
  },
  {
   "cell_type": "code",
   "execution_count": null,
   "id": "d3960296-667b-41c1-9a36-fad29a34b250",
   "metadata": {},
   "outputs": [
    {
     "data": {
      "text/plain": [
       "<Axes: xlabel='median_house_value', ylabel='Count'>"
      ]
     },
     "execution_count": null,
     "metadata": {},
     "output_type": "execute_result"
    },
    {
     "data": {
      "image/png": "[encoded data removed]",
      "text/plain": [
       "<Figure size 640x480 with 1 Axes>"
      ]
     },
     "metadata": {},
     "output_type": "display_data"
    }
   ],
   "source": [
    "# Look at the `median_house_value` variable. Does it have a long tail? \n",
    "import matplotlib.pyplot as plt\n",
    "import seaborn as sns \n",
    "\n",
    "%matplotlib inline\n",
    "sns.histplot(df_pd.median_house_value, bins = 100)"
   ]
  },
  {
   "cell_type": "markdown",
   "id": "c4dbe2ac-790b-409b-9676-73db2c04fd4a",
   "metadata": {},
   "source": [
    "We can observe how the distribution is skewed to the right (long right tail)."
   ]
  },
  {
   "cell_type": "code",
   "execution_count": null,
   "id": "74e6f897-8b4d-4b98-a4ed-6724c95a1087",
   "metadata": {},
   "outputs": [
    {
     "name": "stdout",
     "output_type": "stream",
     "text": [
      "We can also observe 965 rows with the maximun median house value (500001.0).\n"
     ]
    }
   ],
   "source": [
    "max_med_house_val = df_pd.median_house_value.max()\n",
    "count_max = df_pd.median_house_value[df_pd.median_house_value == max_med_house_val].count()\n",
    "\n",
    "print(f\"We can also observe {count_max} rows with the maximun median house value ({max_med_house_val}).\")"
   ]
  },
  {
   "cell_type": "markdown",
   "id": "b1c609e3-584d-465c-b422-2a6d0a90c507",
   "metadata": {},
   "source": [
    "### Preparing the dataset \n",
    "\n",
    "For this homework, we only want to use a subset of data. \n",
    "\n",
    "First, keep only the records where `ocean_proximity` is either `'<1H OCEAN'` or `'INLAND'`"
   ]
  },
  {
   "cell_type": "code",
   "execution_count": null,
   "id": "14550156-0ae5-456f-b962-c491a5c4d491",
   "metadata": {},
   "outputs": [],
   "source": [
    "df_pd = df_pd[\n",
    "    (df_pd.ocean_proximity == '<1H OCEAN') |  (df_pd.ocean_proximity == 'INLAND')\n",
    "]"
   ]
  },
  {
   "cell_type": "markdown",
   "id": "936bdd69-cda9-45b2-b635-141c1289f7e4",
   "metadata": {},
   "source": [
    "Next, use only the following columns:\n",
    "\n",
    "* `'latitude'`,\n",
    "* `'longitude'`,\n",
    "* `'housing_median_age'`,\n",
    "* `'total_rooms'`,\n",
    "* `'total_bedrooms'`,\n",
    "* `'population'`,\n",
    "* `'households'`,\n",
    "* `'median_income'`,\n",
    "* `'median_house_value'`"
   ]
  },
  {
   "cell_type": "code",
   "execution_count": null,
   "id": "cb88863f-2a54-44e7-94e0-ca6b564e7282",
   "metadata": {},
   "outputs": [],
   "source": [
    "columns = ['latitude', 'longitude', 'housing_median_age', 'total_rooms', \n",
    "            'total_bedrooms', 'population', 'households', 'median_income', \n",
    "            'median_house_value']\n",
    "df_pd = df_pd[columns]"
   ]
  },
  {
   "cell_type": "markdown",
   "id": "3df1ab62-b8a9-414b-8449-ba381a7669e4",
   "metadata": {},
   "source": [
    "### Question 1\n",
    "\n",
    "There's one feature with missing values. What is it?\n",
    "\n",
    "* `total_rooms`\n",
    "* `total_bedrooms`✅\n",
    "* `population`\n",
    "* `households`"
   ]
  },
  {
   "cell_type": "code",
   "execution_count": null,
   "id": "caaf0042-8cc2-4d0a-bc21-e3984c2f6553",
   "metadata": {},
   "outputs": [
    {
     "data": {
      "text/plain": [
       "latitude                0\n",
       "longitude               0\n",
       "housing_median_age      0\n",
       "total_rooms             0\n",
       "total_bedrooms        157\n",
       "population              0\n",
       "households              0\n",
       "median_income           0\n",
       "median_house_value      0\n",
       "dtype: int64"
      ]
     },
     "execution_count": null,
     "metadata": {},
     "output_type": "execute_result"
    }
   ],
   "source": [
    "df_pd.isnull().sum()"
   ]
  },
  {
   "cell_type": "markdown",
   "id": "1f84cc63-5915-4684-809e-71d859b8cf1f",
   "metadata": {},
   "source": [
    "### Question 2\n",
    "\n",
    "What's the median (50% percentile) for variable `'population'`?\n",
    "\n",
    "- 995\n",
    "- 1095\n",
    "- 1195✅\n",
    "- 1295"
   ]
  },
  {
   "cell_type": "code",
   "execution_count": null,
   "id": "8bfe22a0-10d0-41c7-b03f-547137c2ae0b",
   "metadata": {},
   "outputs": [
    {
     "data": {
      "text/html": [
       "<div>\n",
       "<style scoped>\n",
       "    .dataframe tbody tr th:only-of-type {\n",
       "        vertical-align: middle;\n",
       "    }\n",
       "\n",
       "    .dataframe tbody tr th {\n",
       "        vertical-align: top;\n",
       "    }\n",
       "\n",
       "    .dataframe thead th {\n",
       "        text-align: right;\n",
       "    }\n",
       "</style>\n",
       "<table border=\"1\" class=\"dataframe\">\n",
       "  <thead>\n",
       "    <tr style=\"text-align: right;\">\n",
       "      <th></th>\n",
       "      <th>latitude</th>\n",
       "      <th>longitude</th>\n",
       "      <th>housing_median_age</th>\n",
       "      <th>total_rooms</th>\n",
       "      <th>total_bedrooms</th>\n",
       "      <th>population</th>\n",
       "      <th>households</th>\n",
       "      <th>median_income</th>\n",
       "      <th>median_house_value</th>\n",
       "    </tr>\n",
       "  </thead>\n",
       "  <tbody>\n",
       "    <tr>\n",
       "      <th>count</th>\n",
       "      <td>15687.0</td>\n",
       "      <td>15687.0</td>\n",
       "      <td>15687.0</td>\n",
       "      <td>15687.0</td>\n",
       "      <td>15530.0</td>\n",
       "      <td>15687.0</td>\n",
       "      <td>15687.0</td>\n",
       "      <td>15687.0</td>\n",
       "      <td>15687.0</td>\n",
       "    </tr>\n",
       "    <tr>\n",
       "      <th>mean</th>\n",
       "      <td>35.467307</td>\n",
       "      <td>-119.217442</td>\n",
       "      <td>27.188118</td>\n",
       "      <td>2665.677312</td>\n",
       "      <td>541.244688</td>\n",
       "      <td>1466.317205</td>\n",
       "      <td>500.916491</td>\n",
       "      <td>3.804019</td>\n",
       "      <td>191943.020017</td>\n",
       "    </tr>\n",
       "    <tr>\n",
       "      <th>std</th>\n",
       "      <td>2.066387</td>\n",
       "      <td>1.78038</td>\n",
       "      <td>12.057128</td>\n",
       "      <td>2257.672743</td>\n",
       "      <td>435.650018</td>\n",
       "      <td>1180.389908</td>\n",
       "      <td>392.759399</td>\n",
       "      <td>1.857158</td>\n",
       "      <td>108801.07762</td>\n",
       "    </tr>\n",
       "    <tr>\n",
       "      <th>min</th>\n",
       "      <td>32.61</td>\n",
       "      <td>-124.14</td>\n",
       "      <td>1.0</td>\n",
       "      <td>2.0</td>\n",
       "      <td>2.0</td>\n",
       "      <td>3.0</td>\n",
       "      <td>2.0</td>\n",
       "      <td>0.4999</td>\n",
       "      <td>14999.0</td>\n",
       "    </tr>\n",
       "    <tr>\n",
       "      <th>25%</th>\n",
       "      <td>33.94</td>\n",
       "      <td>-121.07</td>\n",
       "      <td>17.0</td>\n",
       "      <td>1441.0</td>\n",
       "      <td>295.0</td>\n",
       "      <td>802.0</td>\n",
       "      <td>278.0</td>\n",
       "      <td>2.5208</td>\n",
       "      <td>111300.0</td>\n",
       "    </tr>\n",
       "    <tr>\n",
       "      <th>50%</th>\n",
       "      <td>34.16</td>\n",
       "      <td>-118.37</td>\n",
       "      <td>27.0</td>\n",
       "      <td>2118.0</td>\n",
       "      <td>432.0</td>\n",
       "      <td>1195.0</td>\n",
       "      <td>406.0</td>\n",
       "      <td>3.4688</td>\n",
       "      <td>166900.0</td>\n",
       "    </tr>\n",
       "    <tr>\n",
       "      <th>75%</th>\n",
       "      <td>37.34</td>\n",
       "      <td>-117.99</td>\n",
       "      <td>36.0</td>\n",
       "      <td>3172.0</td>\n",
       "      <td>645.0</td>\n",
       "      <td>1777.0</td>\n",
       "      <td>602.0</td>\n",
       "      <td>4.6862</td>\n",
       "      <td>241100.0</td>\n",
       "    </tr>\n",
       "    <tr>\n",
       "      <th>max</th>\n",
       "      <td>41.95</td>\n",
       "      <td>-114.31</td>\n",
       "      <td>52.0</td>\n",
       "      <td>39320.0</td>\n",
       "      <td>6445.0</td>\n",
       "      <td>35682.0</td>\n",
       "      <td>6082.0</td>\n",
       "      <td>15.0001</td>\n",
       "      <td>500001.0</td>\n",
       "    </tr>\n",
       "  </tbody>\n",
       "</table>\n",
       "</div>"
      ],
      "text/plain": [
       "        latitude   longitude  housing_median_age  total_rooms  total_bedrooms  \\\n",
       "count    15687.0     15687.0             15687.0      15687.0         15530.0   \n",
       "mean   35.467307 -119.217442           27.188118  2665.677312      541.244688   \n",
       "std     2.066387     1.78038           12.057128  2257.672743      435.650018   \n",
       "min        32.61     -124.14                 1.0          2.0             2.0   \n",
       "25%        33.94     -121.07                17.0       1441.0           295.0   \n",
       "50%        34.16     -118.37                27.0       2118.0           432.0   \n",
       "75%        37.34     -117.99                36.0       3172.0           645.0   \n",
       "max        41.95     -114.31                52.0      39320.0          6445.0   \n",
       "\n",
       "        population  households  median_income  median_house_value  \n",
       "count      15687.0     15687.0        15687.0             15687.0  \n",
       "mean   1466.317205  500.916491       3.804019       191943.020017  \n",
       "std    1180.389908  392.759399       1.857158        108801.07762  \n",
       "min            3.0         2.0         0.4999             14999.0  \n",
       "25%          802.0       278.0         2.5208            111300.0  \n",
       "50%         1195.0       406.0         3.4688            166900.0  \n",
       "75%         1777.0       602.0         4.6862            241100.0  \n",
       "max        35682.0      6082.0        15.0001            500001.0  "
      ]
     },
     "execution_count": null,
     "metadata": {},
     "output_type": "execute_result"
    }
   ],
   "source": [
    "df_pd.describe()"
   ]
  },
  {
   "cell_type": "code",
   "execution_count": null,
   "id": "84ac6b22-9aea-4e63-bc3f-0afd00b90885",
   "metadata": {},
   "outputs": [
    {
     "name": "stdout",
     "output_type": "stream",
     "text": [
      "The median of the population is:  1195.0\n"
     ]
    }
   ],
   "source": [
    "print('The median of the population is: ', df_pd.population.median())"
   ]
  },
  {
   "cell_type": "markdown",
   "id": "95eb9303-e854-4a59-ae5f-43c63c2f4091",
   "metadata": {},
   "source": [
    "### Prepare and split the dataset\n",
    "\n",
    "* Apply the log transformation to the `median_house_value` variable using the `np.log1p()` function."
   ]
  },
  {
   "cell_type": "code",
   "execution_count": null,
   "id": "33412ad2-184a-4f83-b265-30baf805bd8f",
   "metadata": {},
   "outputs": [
    {
     "data": {
      "text/plain": [
       "<Axes: xlabel='log_median_house_value', ylabel='Count'>"
      ]
     },
     "execution_count": null,
     "metadata": {},
     "output_type": "execute_result"
    },
    {
     "data": {
      "image/png": "[encoded data removed]",
      "text/plain": [
       "<Figure size 640x480 with 1 Axes>"
      ]
     },
     "metadata": {},
     "output_type": "display_data"
    }
   ],
   "source": [
    "df_pd['log_median_house_value'] = np.log1p(df_pd.median_house_value)\n",
    "\n",
    "sns.histplot(df_pd.log_median_house_value, bins = 50)"
   ]
  },
  {
   "cell_type": "markdown",
   "id": "024ace15-dc2a-4fae-b55f-0e3dff734107",
   "metadata": {},
   "source": [
    "* Shuffle the dataset (the filtered one you created above), and use seed `42`."
   ]
  },
  {
   "cell_type": "code",
   "execution_count": null,
   "id": "84d067e7-740f-42f4-b5ac-7cc15ef47534",
   "metadata": {},
   "outputs": [
    {
     "data": {
      "text/html": [
       "<div>\n",
       "<style scoped>\n",
       "    .dataframe tbody tr th:only-of-type {\n",
       "        vertical-align: middle;\n",
       "    }\n",
       "\n",
       "    .dataframe tbody tr th {\n",
       "        vertical-align: top;\n",
       "    }\n",
       "\n",
       "    .dataframe thead th {\n",
       "        text-align: right;\n",
       "    }\n",
       "</style>\n",
       "<table border=\"1\" class=\"dataframe\">\n",
       "  <thead>\n",
       "    <tr style=\"text-align: right;\">\n",
       "      <th></th>\n",
       "      <th>latitude</th>\n",
       "      <th>longitude</th>\n",
       "      <th>housing_median_age</th>\n",
       "      <th>total_rooms</th>\n",
       "      <th>total_bedrooms</th>\n",
       "      <th>population</th>\n",
       "      <th>households</th>\n",
       "      <th>median_income</th>\n",
       "      <th>median_house_value</th>\n",
       "      <th>log_median_house_value</th>\n",
       "    </tr>\n",
       "  </thead>\n",
       "  <tbody>\n",
       "    <tr>\n",
       "      <th>17478</th>\n",
       "      <td>33.98</td>\n",
       "      <td>-118.18</td>\n",
       "      <td>30.0</td>\n",
       "      <td>1735.0</td>\n",
       "      <td>573.0</td>\n",
       "      <td>2237.0</td>\n",
       "      <td>545.0</td>\n",
       "      <td>2.3444</td>\n",
       "      <td>156100.0</td>\n",
       "      <td>11.958259</td>\n",
       "    </tr>\n",
       "    <tr>\n",
       "      <th>4469</th>\n",
       "      <td>36.72</td>\n",
       "      <td>-119.81</td>\n",
       "      <td>46.0</td>\n",
       "      <td>1414.0</td>\n",
       "      <td>268.0</td>\n",
       "      <td>902.0</td>\n",
       "      <td>243.0</td>\n",
       "      <td>1.5833</td>\n",
       "      <td>56700.0</td>\n",
       "      <td>10.945547</td>\n",
       "    </tr>\n",
       "    <tr>\n",
       "      <th>11611</th>\n",
       "      <td>34.2</td>\n",
       "      <td>-118.37</td>\n",
       "      <td>33.0</td>\n",
       "      <td>1438.0</td>\n",
       "      <td>309.0</td>\n",
       "      <td>1378.0</td>\n",
       "      <td>306.0</td>\n",
       "      <td>2.8917</td>\n",
       "      <td>170400.0</td>\n",
       "      <td>12.04591</td>\n",
       "    </tr>\n",
       "    <tr>\n",
       "      <th>4983</th>\n",
       "      <td>36.93</td>\n",
       "      <td>-119.88</td>\n",
       "      <td>12.0</td>\n",
       "      <td>3174.0</td>\n",
       "      <td>520.0</td>\n",
       "      <td>1590.0</td>\n",
       "      <td>488.0</td>\n",
       "      <td>4.5347</td>\n",
       "      <td>101200.0</td>\n",
       "      <td>11.524864</td>\n",
       "    </tr>\n",
       "    <tr>\n",
       "      <th>15449</th>\n",
       "      <td>33.76</td>\n",
       "      <td>-117.88</td>\n",
       "      <td>17.0</td>\n",
       "      <td>1768.0</td>\n",
       "      <td>474.0</td>\n",
       "      <td>1079.0</td>\n",
       "      <td>436.0</td>\n",
       "      <td>1.7823</td>\n",
       "      <td>205300.0</td>\n",
       "      <td>12.232232</td>\n",
       "    </tr>\n",
       "  </tbody>\n",
       "</table>\n",
       "</div>"
      ],
      "text/plain": [
       "       latitude  longitude  housing_median_age  total_rooms  total_bedrooms  \\\n",
       "17478     33.98    -118.18                30.0       1735.0           573.0   \n",
       "4469      36.72    -119.81                46.0       1414.0           268.0   \n",
       "11611      34.2    -118.37                33.0       1438.0           309.0   \n",
       "4983      36.93    -119.88                12.0       3174.0           520.0   \n",
       "15449     33.76    -117.88                17.0       1768.0           474.0   \n",
       "\n",
       "       population  households  median_income  median_house_value  \\\n",
       "17478      2237.0       545.0         2.3444            156100.0   \n",
       "4469        902.0       243.0         1.5833             56700.0   \n",
       "11611      1378.0       306.0         2.8917            170400.0   \n",
       "4983       1590.0       488.0         4.5347            101200.0   \n",
       "15449      1079.0       436.0         1.7823            205300.0   \n",
       "\n",
       "       log_median_house_value  \n",
       "17478               11.958259  \n",
       "4469                10.945547  \n",
       "11611                12.04591  \n",
       "4983                11.524864  \n",
       "15449               12.232232  "
      ]
     },
     "execution_count": null,
     "metadata": {},
     "output_type": "execute_result"
    }
   ],
   "source": [
    "import numpy as np\n",
    "\n",
    "np.random.seed(42)\n",
    "\n",
    "n = len(df_pd)\n",
    "\n",
    "idx = np.arange(n)\n",
    "np.random.shuffle(idx)\n",
    "\n",
    "# Sguffled dataset:\n",
    "df_shuffled = df_pd.iloc[idx]\n",
    "df_shuffled.head()"
   ]
  },
  {
   "cell_type": "markdown",
   "id": "9ab5978e-c058-45ff-bf5e-5779736ef95e",
   "metadata": {},
   "source": [
    "* Split your data in train/val/test sets, with 60%/20%/20% distribution."
   ]
  },
  {
   "cell_type": "code",
   "execution_count": null,
   "id": "e89f7a85-6c96-4db3-96ae-00da69d07807",
   "metadata": {},
   "outputs": [],
   "source": [
    "n_val = int(0.2 * n)\n",
    "n_test = int(0.2 * n)\n",
    "n_train = n - (n_val + n_test)\n",
    "\n",
    "df_train = df_shuffled.iloc[:n_train].copy()\n",
    "df_val = df_shuffled.iloc[n_train:n_train+n_val].copy()\n",
    "df_test = df_shuffled.iloc[n_train+n_val:].copy()"
   ]
  },
  {
   "cell_type": "markdown",
   "id": "051116dc-50ff-48f0-9fe9-874264f67a36",
   "metadata": {},
   "source": [
    "### Question 3\n",
    "\n",
    "* We need to deal with missing values for the column from Q1.\n",
    "* We have two options: fill it with 0 or with the mean of this variable.\n",
    "* Try both options. For each, train a linear regression model without regularization using the code from the lessons.\n",
    "* For computing the mean, use the training only!\n",
    "* Use the validation dataset to evaluate the models and compare the RMSE of each option.\n",
    "* Round the RMSE scores to 2 decimal digits using `round(score, 2)`\n",
    "* Which option gives better RMSE?\n",
    "\n",
    "Options:\n",
    "\n",
    "- With 0\n",
    "- With mean\n",
    "- Both are equally good ✅"
   ]
  },
  {
   "cell_type": "code",
   "execution_count": null,
   "id": "fc44c0c8-2c82-4a53-9a85-2a112c0ef2da",
   "metadata": {},
   "outputs": [
    {
     "data": {
      "text/plain": [
       "['latitude',\n",
       " 'longitude',\n",
       " 'housing_median_age',\n",
       " 'total_rooms',\n",
       " 'total_bedrooms',\n",
       " 'population',\n",
       " 'households',\n",
       " 'median_income',\n",
       " 'median_house_value',\n",
       " 'log_median_house_value']"
      ]
     },
     "execution_count": null,
     "metadata": {},
     "output_type": "execute_result"
    }
   ],
   "source": [
    "df_train.columns.to_list()"
   ]
  },
  {
   "cell_type": "code",
   "execution_count": null,
   "id": "b205b666-8ab0-45eb-af4b-25b8b55c4c74",
   "metadata": {},
   "outputs": [],
   "source": [
    "features = ['latitude',\n",
    " 'longitude',\n",
    " 'housing_median_age',\n",
    " 'total_rooms',\n",
    " 'total_bedrooms',\n",
    " 'population',\n",
    " 'households',\n",
    " 'median_income']\n",
    "\n",
    "def prepare_X(df, fill = 0):\n",
    "    df_ = df[features].copy()\n",
    "    df_.total_bedrooms = df_.total_bedrooms.fillna(value = fill)\n",
    "    X = df_.values.astype(float)\n",
    "    return X"
   ]
  },
  {
   "cell_type": "code",
   "execution_count": null,
   "id": "4c408e60-b8f3-4b1b-9372-d761f76b9748",
   "metadata": {},
   "outputs": [],
   "source": [
    "# Fitting linear regression\n",
    "def train_linear_regression(X, y):\n",
    "    ones = np.ones(X.shape[0])\n",
    "    X = np.column_stack([ones, X])\n",
    "\n",
    "    XTX = X.T.dot(X)\n",
    "    XTX_inv = np.linalg.inv(XTX)\n",
    "    w = XTX_inv.dot(X.T).dot(y)\n",
    "    \n",
    "    return w[0], w[1:]"
   ]
  },
  {
   "cell_type": "code",
   "execution_count": null,
   "id": "6cd45153-5deb-4f04-9d03-04cc9f2cbef6",
   "metadata": {},
   "outputs": [],
   "source": [
    "def rmse(y, y_pred):\n",
    "    error = y_pred - y\n",
    "    mse = (error ** 2).mean()\n",
    "    return np.sqrt(mse)"
   ]
  },
  {
   "cell_type": "code",
   "execution_count": null,
   "id": "09e9286d-a2c9-4b15-8254-ecc28df0bab2",
   "metadata": {},
   "outputs": [],
   "source": [
    "# Prepare label:\n",
    "y_train = df_train.log_median_house_value.values\n",
    "y_val = df_val.log_median_house_value.values\n",
    "y_test = df_test.log_median_house_value.values"
   ]
  },
  {
   "cell_type": "code",
   "execution_count": null,
   "id": "c387d5ba-35c6-473b-9c66-fab9cb330700",
   "metadata": {},
   "outputs": [
    {
     "name": "stdout",
     "output_type": "stream",
     "text": [
      "Error using fill 0:  0.33\n"
     ]
    }
   ],
   "source": [
    "# Train model and compare RMSE's:\n",
    "\n",
    "# Prepare features:\n",
    "X_train = prepare_X(df_train)\n",
    "X_val = prepare_X(df_val)\n",
    "X_test = prepare_X(df_test)\n",
    "\n",
    "# Get model\n",
    "w_0, w = train_linear_regression(X_train, y_train)\n",
    "\n",
    "# Get predictions\n",
    "y_pred = w_0 + X_val.dot(w)\n",
    "\n",
    "# Get error\n",
    "error = round(rmse(y_val, y_pred),2)\n",
    "print('Error using fill 0: ', error)"
   ]
  },
  {
   "cell_type": "code",
   "execution_count": null,
   "id": "56b05f04-fcf4-41a4-8efc-2acb292d30b9",
   "metadata": {},
   "outputs": [
    {
     "name": "stdout",
     "output_type": "stream",
     "text": [
      "Error using fill mean:  0.33\n"
     ]
    }
   ],
   "source": [
    "# Train model and compare RMSE's:\n",
    "\n",
    "# Prepare features:\n",
    "X_train = prepare_X(df_train, df_train.total_bedrooms.mean())\n",
    "X_val = prepare_X(df_val, df_val.total_bedrooms.mean())\n",
    "X_test = prepare_X(df_test, df_test.total_bedrooms.mean())\n",
    "\n",
    "# Get model\n",
    "w_0, w = train_linear_regression(X_train, y_train)\n",
    "\n",
    "# Get predictions\n",
    "y_pred = w_0 + X_val.dot(w)\n",
    "\n",
    "# Get error\n",
    "error = round(rmse(y_val, y_pred),2)\n",
    "print('Error using fill mean: ', error)"
   ]
  },
  {
   "cell_type": "markdown",
   "id": "080b2822-b120-4da3-ae43-b3b00f8cb2a5",
   "metadata": {},
   "source": [
    "### Question 4\n",
    "\n",
    "* Now let's train a regularized linear regression.\n",
    "* For this question, fill the NAs with 0. \n",
    "* Try different values of `r` from this list: `[0, 0.000001, 0.0001, 0.001, 0.01, 0.1, 1, 5, 10]`.\n",
    "* Use RMSE to evaluate the model on the validation dataset.\n",
    "* Round the RMSE scores to 2 decimal digits.\n",
    "* Which `r` gives the best RMSE?\n",
    "\n",
    "If there are multiple options, select the smallest `r`.\n",
    "\n",
    "Options:\n",
    "\n",
    "- 0✅\n",
    "- 0.000001\n",
    "- 0.001\n",
    "- 0.0001"
   ]
  },
  {
   "cell_type": "code",
   "execution_count": null,
   "id": "6b1f9eac-d31b-4795-9f43-c1185f030784",
   "metadata": {},
   "outputs": [],
   "source": [
    "def train_linear_regression_reg(X, y, r=0.0):\n",
    "    ones = np.ones(X.shape[0])\n",
    "    X = np.column_stack([ones, X])\n",
    "\n",
    "    XTX = X.T.dot(X)\n",
    "    reg = r * np.eye(XTX.shape[0])\n",
    "    XTX = XTX + reg\n",
    "\n",
    "    XTX_inv = np.linalg.inv(XTX)\n",
    "    w = XTX_inv.dot(X.T).dot(y)\n",
    "    \n",
    "    return w[0], w[1:]"
   ]
  },
  {
   "cell_type": "code",
   "execution_count": null,
   "id": "7490edfe-1f51-4226-8ecb-ffdb9848a59e",
   "metadata": {},
   "outputs": [],
   "source": [
    "# Prepare features:\n",
    "X_train = prepare_X(df_train)\n",
    "X_val = prepare_X(df_val)\n",
    "X_test = prepare_X(df_test)"
   ]
  },
  {
   "cell_type": "code",
   "execution_count": null,
   "id": "7e14b048-f3de-490e-b82a-9e7bdc38c996",
   "metadata": {},
   "outputs": [
    {
     "name": "stdout",
     "output_type": "stream",
     "text": [
      "r:     0, error: 0.33\n",
      "r: 1e-06, error: 0.33\n",
      "r: 0.0001, error: 0.33\n",
      "r: 0.001, error: 0.33\n",
      "r:  0.01, error: 0.33\n",
      "r:   0.1, error: 0.33\n",
      "r:     1, error: 0.33\n",
      "r:     5, error: 0.34\n",
      "r:    10, error: 0.34\n"
     ]
    }
   ],
   "source": [
    "for r in [0, 0.000001, 0.0001, 0.001, 0.01, 0.1, 1, 5, 10]:\n",
    "    w_0, w = train_linear_regression_reg(X_train, y_train, r=r)\n",
    "\n",
    "    # Get predictions\n",
    "    y_pred = w_0 + X_val.dot(w)\n",
    "\n",
    "    # Get error\n",
    "    error = round(rmse(y_val, y_pred),2)\n",
    "    \n",
    "    print('r: %5s, error: %.2f' % (r, error))"
   ]
  },
  {
   "cell_type": "markdown",
   "id": "020e0342-93f0-45e0-abc2-2003f0759c2a",
   "metadata": {},
   "source": [
    "### Question 5 \n",
    "\n",
    "* We used seed 42 for splitting the data. Let's find out how selecting the seed influences our score.\n",
    "* Try different seed values: `[0, 1, 2, 3, 4, 5, 6, 7, 8, 9]`.\n",
    "* For each seed, do the train/validation/test split with 60%/20%/20% distribution.\n",
    "* Fill the missing values with 0 and train a model without regularization.\n",
    "* For each seed, evaluate the model on the validation dataset and collect the RMSE scores. \n",
    "* What's the standard deviation of all the scores? To compute the standard deviation, use `np.std`.\n",
    "* Round the result to 3 decimal digits (`round(std, 3)`)\n",
    "\n",
    "What's the value of std?\n",
    "\n",
    "- 0.5\n",
    "- 0.05\n",
    "- 0.005 ✅\n",
    "- 0.0005"
   ]
  },
  {
   "cell_type": "code",
   "execution_count": null,
   "id": "62750557-80d5-4a09-8537-32aaa29dda68",
   "metadata": {},
   "outputs": [],
   "source": [
    "errors = []\n",
    "seeds = [0, 1, 2, 3, 4, 5, 6, 7, 8, 9]\n",
    "\n",
    "def train_diff_split_seed(seed):\n",
    "    np.random.seed(seed)\n",
    "\n",
    "    idx = np.arange(n)\n",
    "    np.random.shuffle(idx)\n",
    "    \n",
    "    # Shuffled dataset:\n",
    "    df_shuffled = df_pd.iloc[idx]\n",
    "    df_shuffled.head()\n",
    "    \n",
    "    df_train = df_shuffled.iloc[:n_train].copy()\n",
    "    df_val = df_shuffled.iloc[n_train:n_train+n_val].copy()\n",
    "    df_test = df_shuffled.iloc[n_train+n_val:].copy()\n",
    "    \n",
    "    # Prepare label:\n",
    "    y_train = df_train.log_median_house_value.values\n",
    "    y_val = df_val.log_median_house_value.values\n",
    "    y_test = df_test.log_median_house_value.values\n",
    "    \n",
    "    # Train model and compare RMSE's:\n",
    "    \n",
    "    # Prepare features:\n",
    "    X_train = prepare_X(df_train)\n",
    "    X_val = prepare_X(df_val)\n",
    "    X_test = prepare_X(df_test)\n",
    "    \n",
    "    # Get model\n",
    "    w_0, w = train_linear_regression(X_train, y_train)\n",
    "    \n",
    "    # Get predictions\n",
    "    y_pred = w_0 + X_val.dot(w)\n",
    "    \n",
    "    # Get error\n",
    "    error = rmse(y_val, y_pred)\n",
    "    return error\n",
    "\n",
    "for seed in seeds:\n",
    "    error = train_diff_split_seed(seed)\n",
    "    errors.append(error)"
   ]
  },
  {
   "cell_type": "code",
   "execution_count": null,
   "id": "67b35264-7d14-41d3-b26b-aae23de8c171",
   "metadata": {},
   "outputs": [
    {
     "name": "stdout",
     "output_type": "stream",
     "text": [
      "Standard deviation of errrors:  0.006\n"
     ]
    }
   ],
   "source": [
    "print('Standard deviation of errrors: ',round(np.std(errors),3))"
   ]
  },
  {
   "cell_type": "markdown",
   "id": "37189dcf-a27a-48ef-adb5-da5428196651",
   "metadata": {},
   "source": [
    "> Note: Standard deviation shows how different the values are.\n",
    "> If it's low, then all values are approximately the same.\n",
    "> If it's high, the values are different. \n",
    "> If standard deviation of scores is low, then our model is *stable*."
   ]
  },
  {
   "cell_type": "markdown",
   "id": "2d378823-85e7-4f25-8695-5673a5afbb62",
   "metadata": {},
   "source": [
    "### Question 6\n",
    "\n",
    "* Split the dataset like previously, use seed 9.\n",
    "* Combine train and validation datasets.\n",
    "* Fill the missing values with 0 and train a model with `r=0.001`. \n",
    "* What's the RMSE on the test dataset?\n",
    "\n",
    "Options:\n",
    "\n",
    "- 0.13\n",
    "- 0.23\n",
    "- 0.33 ✅\n",
    "- 0.43"
   ]
  },
  {
   "cell_type": "code",
   "execution_count": null,
   "id": "fd8ff0a9-a72f-4a3b-95f0-50b61727836d",
   "metadata": {},
   "outputs": [
    {
     "name": "stdout",
     "output_type": "stream",
     "text": [
      "RMSE: 0.3434452993377281\n"
     ]
    }
   ],
   "source": [
    "np.random.seed(9)\n",
    "\n",
    "idx = np.arange(n)\n",
    "np.random.shuffle(idx)\n",
    "\n",
    "# Shuffled dataset:\n",
    "df_shuffled = df_pd.iloc[idx]\n",
    "\n",
    "df_train = df_shuffled.iloc[:n_train].copy()\n",
    "df_val = df_shuffled.iloc[n_train:n_train+n_val].copy()\n",
    "df_test = df_shuffled.iloc[n_train+n_val:].copy()\n",
    "\n",
    "# Prepare label:\n",
    "y_train = df_train.log_median_house_value.values\n",
    "y_val = df_val.log_median_house_value.values\n",
    "y_test = df_test.log_median_house_value.values\n",
    "\n",
    "# Train model and compare RMSE's:\n",
    "\n",
    "# Prepare features:\n",
    "X_train = prepare_X(df_train)\n",
    "X_val = prepare_X(df_val)\n",
    "X_test = prepare_X(df_test)\n",
    "\n",
    "# Join:\n",
    "X_ = np.concatenate((X_train,X_val))\n",
    "y_ = np.concatenate((y_train,y_val))\n",
    "\n",
    "# Get model\n",
    "w_0, w = train_linear_regression_reg(X_, y_, r=0.001)\n",
    "\n",
    "# Get predictions\n",
    "y_pred = w_0 + X_val.dot(w)\n",
    "\n",
    "# Get error\n",
    "error = rmse(y_val, y_pred)\n",
    "print('RMSE:', error)"
   ]
  }
 ],
 "metadata": {
  "kernelspec": {
   "display_name": "env-ml-zoomcamp",
   "language": "python",
   "name": "env-ml-zoomcamp"
  }
 },
 "nbformat": 4,
 "nbformat_minor": 5
}
