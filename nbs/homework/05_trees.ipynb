{
 "cells": [
  {
   "cell_type": "code",
   "execution_count": null,
   "id": "39c1c451-c1ba-4b1e-844f-293e17fc5876",
   "metadata": {},
   "outputs": [],
   "source": [
    "import warnings\n",
    "warnings.filterwarnings('ignore')"
   ]
  },
  {
   "cell_type": "code",
   "execution_count": null,
   "id": "67f480b0-fbc2-40f2-a3c4-3b24ff588d46",
   "metadata": {},
   "outputs": [],
   "source": [
    "import os\n",
    "\n",
    "from dotenv import load_dotenv\n",
    "load_dotenv()\n",
    "\n",
    "# Variables:\n",
    "PROJECT_ID=os.getenv('PROJECT_ID')\n",
    "BUCKET_NAME=os.getenv('BUCKET_NAME')\n",
    "USER=os.getenv('USER')\n",
    "LOCATION=os.getenv('LOCATION')\n",
    "SERVICE_ACCOUNT=os.getenv('SERVICE_ACCOUNT')"
   ]
  },
  {
   "cell_type": "markdown",
   "id": "2a99fd8d-ee30-4f35-8b6c-5e11e39cef08",
   "metadata": {},
   "source": [
    "## Homework\n",
    "\n",
    "### Dataset\n",
    "\n",
    "In this homework, we will use the California Housing Prices from [Kaggle](https://www.kaggle.com/datasets/camnugent/california-housing-prices). The goal of this homework is to create a regression model for predicting housing prices (column `'median_house_value'`)."
   ]
  },
  {
   "cell_type": "code",
   "execution_count": null,
   "id": "2df7aa3e-a90f-457a-a6d8-6575208c0e4c",
   "metadata": {},
   "outputs": [],
   "source": [
    "data_gcs_uri = f\"gs://{BUCKET_NAME}/00_intro/housing.csv\""
   ]
  },
  {
   "cell_type": "code",
   "execution_count": null,
   "id": "999ef300-edb9-4d03-85b5-5d36017a9ce3",
   "metadata": {},
   "outputs": [],
   "source": [
    "# Imports\n",
    "import kfp\n",
    "from kfp.dsl import (\n",
    "    Input,\n",
    "    Output, \n",
    "    Dataset,\n",
    "    component,\n",
    "    Model,\n",
    "    Artifact,\n",
    "    ClassificationMetrics,\n",
    ")\n",
    "\n",
    "artifacts_uri = '../../artifacts/homework/05_trees/'\n",
    "if not os.path.exists(artifacts_uri):\n",
    "    os.makedirs(artifacts_uri)"
   ]
  },
  {
   "cell_type": "code",
   "execution_count": null,
   "id": "7c8c027e-0c73-46d1-a6c5-e16cf29ee3d7",
   "metadata": {},
   "outputs": [],
   "source": [
    "import pandas as pd\n",
    "import numpy as np\n",
    "\n",
    "import seaborn as sns\n",
    "import matplotlib.pyplot as plt\n",
    "\n",
    "import joblib\n",
    "\n",
    "from sklearn.tree import export_text"
   ]
  },
  {
   "cell_type": "markdown",
   "id": "406b79de-046a-45c4-8293-1565c6de4f42",
   "metadata": {},
   "source": [
    "### Preparing the dataset \n",
    "\n",
    "For this homework, we only want to use a subset of data. This is the same subset we used in homework #2.\n",
    "But in contrast to homework #2, we are going to use all columns of the dataset.\n",
    "\n",
    "First, keep only the records where `ocean_proximity` is either `'<1H OCEAN'` or `'INLAND'`\n",
    "\n",
    "Preparation:\n",
    "\n",
    "* Fill missing values with zeros.\n",
    "* Apply the log transform to `median_house_value`.\n",
    "* Do train/validation/test split with 60%/20%/20% distribution. "
   ]
  },
  {
   "cell_type": "code",
   "execution_count": null,
   "id": "122d7b5d-131f-4634-8ca1-99b1a7b7def7",
   "metadata": {},
   "outputs": [],
   "source": [
    "# Components\n",
    "@component(\n",
    "    base_image=\"gcr.io/deeplearning-platform-release/base-cpu.py310:latest\",\n",
    "    packages_to_install=[\n",
    "        \"gcp_python_client_functions\",\n",
    "    ],\n",
    ")\n",
    "def read_data_gcs(\n",
    "    project_id: str, \n",
    "    data_gcs_uri: str,\n",
    "    out_df: Output[Dataset], \n",
    "):\n",
    "    import pandas as pd\n",
    "    import numpy as np\n",
    "    import pickle\n",
    "    \n",
    "    from gcp_python_client_functions.clients import Storage\n",
    "    ##################### CODE:\n",
    "    stg_obj = Storage(project_id)\n",
    "\n",
    "    df = pd.read_csv(data_gcs_uri)\n",
    "\n",
    "    # Base formatting:\n",
    "    df.columns = df.columns.str.lower()\n",
    "    categorical_columns = list(df.dtypes[df.dtypes == 'object'].index)\n",
    "    for c in categorical_columns:\n",
    "        df[c] = df[c].str.lower()\n",
    "\n",
    "    # Subset:\n",
    "    df = df[\n",
    "        (df.ocean_proximity == '<1h ocean') |  (df.ocean_proximity == 'inland')\n",
    "    ]\n",
    "    df.ocean_proximity = df.ocean_proximity=='<1h ocean'\n",
    "\n",
    "    # 1. Fill missing values with zeros\n",
    "    df.total_bedrooms = df.total_bedrooms.fillna(value = 0)\n",
    "    # 2. Apply the log transform to `median_house_value`\n",
    "    df['log_median_house_value'] = np.log(df.median_house_value)\n",
    "    df = df.drop(['median_house_value'], axis=1)\n",
    "\n",
    "    pd.to_pickle(df, out_df.uri + \".pkl\")\n",
    "\n",
    "read_data_gcs_func = read_data_gcs.python_func"
   ]
  },
  {
   "cell_type": "code",
   "execution_count": null,
   "id": "7516d1e1-d4bc-452c-8f7f-03677c7f458f",
   "metadata": {},
   "outputs": [],
   "source": [
    "art_df = Dataset(uri = artifacts_uri +'df')\n",
    "\n",
    "read_data_gcs_func(\n",
    "    project_id = PROJECT_ID, \n",
    "    data_gcs_uri = data_gcs_uri,\n",
    "    out_df = art_df,\n",
    ")\n",
    "\n",
    "df = pd.read_pickle(art_df.uri+'.pkl')"
   ]
  },
  {
   "cell_type": "code",
   "execution_count": null,
   "id": "5af6a53d-df75-4e24-b312-3f6c2b46a4c3",
   "metadata": {},
   "outputs": [
    {
     "data": {
      "text/html": [
       "<div>\n",
       "<style scoped>\n",
       "    .dataframe tbody tr th:only-of-type {\n",
       "        vertical-align: middle;\n",
       "    }\n",
       "\n",
       "    .dataframe tbody tr th {\n",
       "        vertical-align: top;\n",
       "    }\n",
       "\n",
       "    .dataframe thead th {\n",
       "        text-align: right;\n",
       "    }\n",
       "</style>\n",
       "<table border=\"1\" class=\"dataframe\">\n",
       "  <thead>\n",
       "    <tr style=\"text-align: right;\">\n",
       "      <th></th>\n",
       "      <th>longitude</th>\n",
       "      <th>latitude</th>\n",
       "      <th>housing_median_age</th>\n",
       "      <th>total_rooms</th>\n",
       "      <th>total_bedrooms</th>\n",
       "      <th>population</th>\n",
       "      <th>households</th>\n",
       "      <th>median_income</th>\n",
       "      <th>ocean_proximity</th>\n",
       "      <th>log_median_house_value</th>\n",
       "    </tr>\n",
       "  </thead>\n",
       "  <tbody>\n",
       "    <tr>\n",
       "      <th>701</th>\n",
       "      <td>-121.97</td>\n",
       "      <td>37.64</td>\n",
       "      <td>32.0</td>\n",
       "      <td>1283.0</td>\n",
       "      <td>194.0</td>\n",
       "      <td>485.0</td>\n",
       "      <td>171.0</td>\n",
       "      <td>6.0574</td>\n",
       "      <td>True</td>\n",
       "      <td>12.973863</td>\n",
       "    </tr>\n",
       "    <tr>\n",
       "      <th>830</th>\n",
       "      <td>-121.99</td>\n",
       "      <td>37.61</td>\n",
       "      <td>9.0</td>\n",
       "      <td>3666.0</td>\n",
       "      <td>711.0</td>\n",
       "      <td>2341.0</td>\n",
       "      <td>703.0</td>\n",
       "      <td>4.6458</td>\n",
       "      <td>True</td>\n",
       "      <td>12.287653</td>\n",
       "    </tr>\n",
       "    <tr>\n",
       "      <th>859</th>\n",
       "      <td>-121.97</td>\n",
       "      <td>37.57</td>\n",
       "      <td>21.0</td>\n",
       "      <td>4342.0</td>\n",
       "      <td>783.0</td>\n",
       "      <td>2172.0</td>\n",
       "      <td>789.0</td>\n",
       "      <td>4.6146</td>\n",
       "      <td>True</td>\n",
       "      <td>12.419570</td>\n",
       "    </tr>\n",
       "    <tr>\n",
       "      <th>860</th>\n",
       "      <td>-121.96</td>\n",
       "      <td>37.58</td>\n",
       "      <td>15.0</td>\n",
       "      <td>3575.0</td>\n",
       "      <td>597.0</td>\n",
       "      <td>1777.0</td>\n",
       "      <td>559.0</td>\n",
       "      <td>5.7192</td>\n",
       "      <td>True</td>\n",
       "      <td>12.554967</td>\n",
       "    </tr>\n",
       "    <tr>\n",
       "      <th>861</th>\n",
       "      <td>-121.98</td>\n",
       "      <td>37.58</td>\n",
       "      <td>20.0</td>\n",
       "      <td>4126.0</td>\n",
       "      <td>1031.0</td>\n",
       "      <td>2079.0</td>\n",
       "      <td>975.0</td>\n",
       "      <td>3.6832</td>\n",
       "      <td>True</td>\n",
       "      <td>12.287192</td>\n",
       "    </tr>\n",
       "  </tbody>\n",
       "</table>\n",
       "</div>"
      ],
      "text/plain": [
       "     longitude  latitude  housing_median_age  total_rooms  total_bedrooms  \\\n",
       "701    -121.97     37.64                32.0       1283.0           194.0   \n",
       "830    -121.99     37.61                 9.0       3666.0           711.0   \n",
       "859    -121.97     37.57                21.0       4342.0           783.0   \n",
       "860    -121.96     37.58                15.0       3575.0           597.0   \n",
       "861    -121.98     37.58                20.0       4126.0          1031.0   \n",
       "\n",
       "     population  households  median_income  ocean_proximity  \\\n",
       "701       485.0       171.0         6.0574             True   \n",
       "830      2341.0       703.0         4.6458             True   \n",
       "859      2172.0       789.0         4.6146             True   \n",
       "860      1777.0       559.0         5.7192             True   \n",
       "861      2079.0       975.0         3.6832             True   \n",
       "\n",
       "     log_median_house_value  \n",
       "701               12.973863  \n",
       "830               12.287653  \n",
       "859               12.419570  \n",
       "860               12.554967  \n",
       "861               12.287192  "
      ]
     },
     "execution_count": null,
     "metadata": {},
     "output_type": "execute_result"
    }
   ],
   "source": [
    "df.head()"
   ]
  },
  {
   "cell_type": "markdown",
   "id": "12abb2d8-513f-456f-bf26-4d75f6a8ffe9",
   "metadata": {},
   "source": [
    "* Use the `train_test_split` function and set the `random_state` parameter to 1."
   ]
  },
  {
   "cell_type": "code",
   "execution_count": null,
   "id": "79a04569-c536-4678-87e6-0d16955cc4e0",
   "metadata": {},
   "outputs": [],
   "source": [
    "@component(\n",
    "    base_image=\"gcr.io/deeplearning-platform-release/base-cpu.py310:latest\",\n",
    ")\n",
    "def split_data(\n",
    "    in_df: Input[Dataset],\n",
    "    out_df_train: Output[Dataset], \n",
    "    out_df_test: Output[Dataset],\n",
    "    test_size: float = 0.2,\n",
    "    random_state: int = 1,\n",
    "):\n",
    "    import pandas as pd\n",
    "    from sklearn.model_selection import train_test_split\n",
    "\n",
    "    df = pd.read_pickle(in_df.uri + \".pkl\") \n",
    "    \n",
    "    df_train, df_test = train_test_split(\n",
    "        df, \n",
    "        test_size=test_size, \n",
    "        random_state=random_state,\n",
    "    )\n",
    "\n",
    "    df_train = df_train.reset_index(drop=True)\n",
    "    df_test = df_test.reset_index(drop=True)\n",
    "\n",
    "    pd.to_pickle(df_train, out_df_train.uri + \".pkl\")\n",
    "    pd.to_pickle(df_test, out_df_test.uri + \".pkl\")\n",
    "\n",
    "split_data_func = split_data.python_func"
   ]
  },
  {
   "cell_type": "code",
   "execution_count": null,
   "id": "0566cedf-fe7c-40a2-814d-ede98df88df2",
   "metadata": {},
   "outputs": [],
   "source": [
    "art_df_train_full = Dataset(uri = artifacts_uri +'df_train_full')\n",
    "art_df_train = Dataset(uri = artifacts_uri +'df_train')\n",
    "art_df_test = Dataset(uri = artifacts_uri +'df_test')\n",
    "art_df_val = Dataset(uri = artifacts_uri +'df_val')\n",
    "\n",
    "split_data_func(\n",
    "    in_df = art_df,\n",
    "    out_df_train = art_df_train_full, \n",
    "    out_df_test = art_df_test,\n",
    "    test_size = 0.2,\n",
    "    random_state = 1,\n",
    ")\n",
    "split_data_func(\n",
    "    in_df = art_df_train_full,\n",
    "    out_df_train = art_df_train, \n",
    "    out_df_test = art_df_val,\n",
    "    test_size = 0.25,\n",
    "    random_state = 1,\n",
    ")"
   ]
  },
  {
   "cell_type": "code",
   "execution_count": null,
   "id": "1ed4de9b-3100-4740-9e46-57fc33e92408",
   "metadata": {},
   "outputs": [
    {
     "data": {
      "text/html": [
       "<div>\n",
       "<style scoped>\n",
       "    .dataframe tbody tr th:only-of-type {\n",
       "        vertical-align: middle;\n",
       "    }\n",
       "\n",
       "    .dataframe tbody tr th {\n",
       "        vertical-align: top;\n",
       "    }\n",
       "\n",
       "    .dataframe thead th {\n",
       "        text-align: right;\n",
       "    }\n",
       "</style>\n",
       "<table border=\"1\" class=\"dataframe\">\n",
       "  <thead>\n",
       "    <tr style=\"text-align: right;\">\n",
       "      <th></th>\n",
       "      <th>longitude</th>\n",
       "      <th>latitude</th>\n",
       "      <th>housing_median_age</th>\n",
       "      <th>total_rooms</th>\n",
       "      <th>total_bedrooms</th>\n",
       "      <th>population</th>\n",
       "      <th>households</th>\n",
       "      <th>median_income</th>\n",
       "      <th>ocean_proximity</th>\n",
       "      <th>log_median_house_value</th>\n",
       "    </tr>\n",
       "  </thead>\n",
       "  <tbody>\n",
       "    <tr>\n",
       "      <th>0</th>\n",
       "      <td>-122.74</td>\n",
       "      <td>38.48</td>\n",
       "      <td>12.0</td>\n",
       "      <td>4174.0</td>\n",
       "      <td>670.0</td>\n",
       "      <td>1882.0</td>\n",
       "      <td>647.0</td>\n",
       "      <td>4.5510</td>\n",
       "      <td>True</td>\n",
       "      <td>12.091223</td>\n",
       "    </tr>\n",
       "    <tr>\n",
       "      <th>1</th>\n",
       "      <td>-121.67</td>\n",
       "      <td>36.93</td>\n",
       "      <td>22.0</td>\n",
       "      <td>569.0</td>\n",
       "      <td>132.0</td>\n",
       "      <td>542.0</td>\n",
       "      <td>125.0</td>\n",
       "      <td>2.1875</td>\n",
       "      <td>True</td>\n",
       "      <td>12.141534</td>\n",
       "    </tr>\n",
       "    <tr>\n",
       "      <th>2</th>\n",
       "      <td>-120.90</td>\n",
       "      <td>39.95</td>\n",
       "      <td>20.0</td>\n",
       "      <td>1349.0</td>\n",
       "      <td>238.0</td>\n",
       "      <td>601.0</td>\n",
       "      <td>203.0</td>\n",
       "      <td>3.5417</td>\n",
       "      <td>False</td>\n",
       "      <td>11.478334</td>\n",
       "    </tr>\n",
       "    <tr>\n",
       "      <th>3</th>\n",
       "      <td>-118.14</td>\n",
       "      <td>34.02</td>\n",
       "      <td>44.0</td>\n",
       "      <td>1715.0</td>\n",
       "      <td>460.0</td>\n",
       "      <td>1740.0</td>\n",
       "      <td>423.0</td>\n",
       "      <td>2.7019</td>\n",
       "      <td>True</td>\n",
       "      <td>11.940152</td>\n",
       "    </tr>\n",
       "    <tr>\n",
       "      <th>4</th>\n",
       "      <td>-118.11</td>\n",
       "      <td>33.80</td>\n",
       "      <td>36.0</td>\n",
       "      <td>1837.0</td>\n",
       "      <td>319.0</td>\n",
       "      <td>810.0</td>\n",
       "      <td>305.0</td>\n",
       "      <td>4.3897</td>\n",
       "      <td>True</td>\n",
       "      <td>12.367341</td>\n",
       "    </tr>\n",
       "  </tbody>\n",
       "</table>\n",
       "</div>"
      ],
      "text/plain": [
       "   longitude  latitude  housing_median_age  total_rooms  total_bedrooms  \\\n",
       "0    -122.74     38.48                12.0       4174.0           670.0   \n",
       "1    -121.67     36.93                22.0        569.0           132.0   \n",
       "2    -120.90     39.95                20.0       1349.0           238.0   \n",
       "3    -118.14     34.02                44.0       1715.0           460.0   \n",
       "4    -118.11     33.80                36.0       1837.0           319.0   \n",
       "\n",
       "   population  households  median_income  ocean_proximity  \\\n",
       "0      1882.0       647.0         4.5510             True   \n",
       "1       542.0       125.0         2.1875             True   \n",
       "2       601.0       203.0         3.5417            False   \n",
       "3      1740.0       423.0         2.7019             True   \n",
       "4       810.0       305.0         4.3897             True   \n",
       "\n",
       "   log_median_house_value  \n",
       "0               12.091223  \n",
       "1               12.141534  \n",
       "2               11.478334  \n",
       "3               11.940152  \n",
       "4               12.367341  "
      ]
     },
     "execution_count": null,
     "metadata": {},
     "output_type": "execute_result"
    }
   ],
   "source": [
    "df_val = pd.read_pickle(art_df_val.uri+'.pkl')\n",
    "df_val.head()"
   ]
  },
  {
   "cell_type": "markdown",
   "id": "e95e5c79-ae7a-487e-aa58-165c1fa57a89",
   "metadata": {},
   "source": [
    "## Question 1\n",
    "\n",
    "Let's train a decision tree regressor to predict the `median_house_value` variable. \n",
    "\n",
    "* Train a model with `max_depth=1`."
   ]
  },
  {
   "cell_type": "code",
   "execution_count": null,
   "id": "d2912483-5a53-47aa-940f-b2f24da27cd8",
   "metadata": {},
   "outputs": [],
   "source": [
    "@component(\n",
    "    base_image=\"gcr.io/deeplearning-platform-release/base-cpu.py310:latest\",\n",
    "    packages_to_install = [\"scikit-learn==1.3.1\"],\n",
    ")\n",
    "def tree_prep_train(\n",
    "    in_df_train: Input[Dataset],\n",
    "    label: str,\n",
    "    out_dt: Output[Model],\n",
    "    max_depth: int = None,\n",
    "):\n",
    "    import pandas as pd \n",
    "    import numpy as np\n",
    "\n",
    "    import joblib\n",
    "    import pickle\n",
    "\n",
    "    from sklearn.tree import DecisionTreeRegressor\n",
    "\n",
    "    df_train = pd.read_pickle(in_df_train.uri + \".pkl\") \n",
    "\n",
    "    y_train = df_train[label].copy()\n",
    "    x_train = df_train.drop([label], axis=1)\n",
    "    features = x_train.columns.to_list()\n",
    "\n",
    "    dt = DecisionTreeRegressor(\n",
    "        max_depth = max_depth, \n",
    "    )\n",
    "    \n",
    "    dt.fit(x_train, y_train)\n",
    "\n",
    "    with open(out_dt.uri+'.joblib', 'wb') as f:\n",
    "        pickle.dump(dt, f)\n",
    "\n",
    "    return features\n",
    "\n",
    "tree_prep_train_func = tree_prep_train.python_func"
   ]
  },
  {
   "cell_type": "code",
   "execution_count": null,
   "id": "f550eb93-a213-42d7-89d4-0349bb073664",
   "metadata": {},
   "outputs": [],
   "source": [
    "art_dt = Model(uri = artifacts_uri +'dt')\n",
    "\n",
    "features = tree_prep_train_func(\n",
    "    in_df_train = art_df_train,\n",
    "    label = 'log_median_house_value',\n",
    "    out_dt = art_dt,\n",
    "    max_depth = 1,\n",
    ")"
   ]
  },
  {
   "cell_type": "markdown",
   "id": "66379be3-0103-46d2-a373-5ed90399fcb0",
   "metadata": {},
   "source": [
    "Which feature is used for splitting the data?\n",
    "\n",
    "* `ocean_proximity`✅\n",
    "* `total_rooms`\n",
    "* `latitude`\n",
    "* `population`"
   ]
  },
  {
   "cell_type": "code",
   "execution_count": null,
   "id": "7c847107-97ca-43f7-aed8-3dcd3aebc7a2",
   "metadata": {},
   "outputs": [
    {
     "name": "stdout",
     "output_type": "stream",
     "text": [
      "|--- ocean_proximity <= 0.50\n",
      "|   |--- value: [11.61]\n",
      "|--- ocean_proximity >  0.50\n",
      "|   |--- value: [12.30]\n",
      "\n"
     ]
    }
   ],
   "source": [
    "dt = joblib.load(art_dt.uri + '.joblib')\n",
    "\n",
    "print(export_text(dt, feature_names=features))"
   ]
  },
  {
   "cell_type": "markdown",
   "id": "c87e049f-0a74-46fe-a2e6-455b069fabed",
   "metadata": {},
   "source": [
    "## Question 2\n",
    "\n",
    "Train a random forest model with these parameters:\n",
    "\n",
    "* `n_estimators=10`\n",
    "* `random_state=1`\n",
    "* `n_jobs=-1` (optional - to make training faster)"
   ]
  },
  {
   "cell_type": "code",
   "execution_count": null,
   "id": "333c2b9c-30a7-4580-91f1-c2cc7b368d03",
   "metadata": {},
   "outputs": [],
   "source": [
    "@component(\n",
    "    base_image=\"gcr.io/deeplearning-platform-release/base-cpu.py310:latest\",\n",
    "    packages_to_install = [\"scikit-learn==1.3.1\"],\n",
    ")\n",
    "def rf_prep_train(\n",
    "    in_df_train: Input[Dataset],\n",
    "    label: str,\n",
    "    out_rf: Output[Model],\n",
    "    max_depth: int = None,\n",
    "    n_estimators: int = 100,\n",
    "    random_state: int = 1, \n",
    "    n_jobs: int=-1,\n",
    "):\n",
    "    import pandas as pd \n",
    "    import numpy as np\n",
    "\n",
    "    import joblib\n",
    "    import pickle\n",
    "\n",
    "    from sklearn.ensemble import RandomForestRegressor\n",
    "\n",
    "    df_train = pd.read_pickle(in_df_train.uri + \".pkl\") \n",
    "\n",
    "    y_train = df_train[label].copy()\n",
    "    x_train = df_train.drop([label], axis=1)\n",
    "    features = x_train.columns.to_list()\n",
    "\n",
    "    rf = RandomForestRegressor(\n",
    "        max_depth = max_depth, \n",
    "        n_estimators = n_estimators,\n",
    "        random_state = random_state,\n",
    "        n_jobs = n_jobs,\n",
    "    )\n",
    "    \n",
    "    rf.fit(x_train, y_train)\n",
    "\n",
    "    with open(out_rf.uri+'.joblib', 'wb') as f:\n",
    "        pickle.dump(rf, f)\n",
    "\n",
    "    return features\n",
    "\n",
    "rf_prep_train_func = rf_prep_train.python_func"
   ]
  },
  {
   "cell_type": "code",
   "execution_count": null,
   "id": "8ab7ed30-ba20-47b2-ae67-4e6766e4b32f",
   "metadata": {},
   "outputs": [],
   "source": [
    "@component(\n",
    "    base_image=\"gcr.io/deeplearning-platform-release/base-cpu.py310:latest\",\n",
    "    packages_to_install = [\"scikit-learn==1.3.1\"],\n",
    ")\n",
    "def evaluate(\n",
    "    in_df_test: Input[Dataset], \n",
    "    label: str,\n",
    "    in_model: Input[Model], \n",
    ") -> float:\n",
    "\n",
    "    import pandas as pd\n",
    "    import joblib\n",
    "    from sklearn.metrics import mean_squared_error\n",
    "\n",
    "    df_test = pd.read_pickle(in_df_test.uri + \".pkl\") \n",
    "    model = joblib.load(in_model.uri + '.joblib')\n",
    "    \n",
    "    # Make prediction:\n",
    "    y_test = df_test[label].copy()\n",
    "    x_test = df_test.drop([label], axis=1)\n",
    "\n",
    "    y_pred = model.predict(x_test)\n",
    "    \n",
    "    # Evaluate:\n",
    "    rmse = mean_squared_error(y_test, y_pred, squared=False)\n",
    "\n",
    "    return rmse, y_pred\n",
    "\n",
    "evaluate_func = evaluate.python_func"
   ]
  },
  {
   "cell_type": "markdown",
   "id": "cef39f98-203b-4d75-af26-0b9472a9db75",
   "metadata": {},
   "source": [
    "What's the RMSE of this model on validation?\n",
    "\n",
    "* 0.045\n",
    "* 0.245 ✅\n",
    "* 0.545\n",
    "* 0.845"
   ]
  },
  {
   "cell_type": "code",
   "execution_count": null,
   "id": "631c99d1-48bf-40e1-a673-64dea0e55852",
   "metadata": {},
   "outputs": [
    {
     "data": {
      "text/plain": [
       "0.24435094117718684"
      ]
     },
     "execution_count": null,
     "metadata": {},
     "output_type": "execute_result"
    }
   ],
   "source": [
    "art_rf = Model(uri = artifacts_uri +'rf')\n",
    "\n",
    "features = rf_prep_train_func(\n",
    "    in_df_train = art_df_train,\n",
    "    label = 'log_median_house_value',\n",
    "    out_rf = art_rf,\n",
    "    n_estimators = 10,\n",
    ")\n",
    "rmse_rf, y_pred = evaluate_func(\n",
    "    in_df_test = art_df_val, \n",
    "    label = 'log_median_house_value',\n",
    "    in_model = art_rf, \n",
    ")\n",
    "rmse_rf"
   ]
  },
  {
   "cell_type": "markdown",
   "id": "2efda46b-fefb-43fe-a95c-7e3eddb829ab",
   "metadata": {},
   "source": [
    "## Question 3\n",
    "\n",
    "Now let's experiment with the `n_estimators` parameter\n",
    "\n",
    "* Try different values of this parameter from 10 to 200 with step 10.\n",
    "* Set `random_state` to `1`.\n",
    "* Evaluate the model on the validation dataset."
   ]
  },
  {
   "cell_type": "code",
   "execution_count": null,
   "id": "2a180064-3753-43f7-9162-9aaf5c773857",
   "metadata": {},
   "outputs": [],
   "source": [
    "def rf_train_eval(n):\n",
    "    features = rf_prep_train_func(\n",
    "        in_df_train = art_df_train,\n",
    "        label = 'log_median_house_value',\n",
    "        out_rf = art_rf,\n",
    "        n_estimators = n,\n",
    "    )\n",
    "    rmse, _ = evaluate_func(\n",
    "        in_df_test = art_df_val, \n",
    "        label = 'log_median_house_value',\n",
    "        in_model = art_rf, \n",
    "    )\n",
    "    return rmse"
   ]
  },
  {
   "cell_type": "code",
   "execution_count": null,
   "id": "0186fb3c-9b82-4246-a178-6d9fffe2d981",
   "metadata": {},
   "outputs": [],
   "source": [
    "scores = []\n",
    "\n",
    "for n in range(10,201,10):\n",
    "    rmse = rf_train_eval(n)\n",
    "    scores.append((n,round(rmse,3)))\n",
    "\n",
    "columns = ['n_estimators', 'rmse']\n",
    "df_scores = pd.DataFrame(scores, columns = columns)"
   ]
  },
  {
   "cell_type": "code",
   "execution_count": null,
   "id": "b50f2e3e-600e-4dad-8bb1-0b7ca876137e",
   "metadata": {},
   "outputs": [
    {
     "data": {
      "text/plain": [
       "[<matplotlib.lines.Line2D>]"
      ]
     },
     "execution_count": null,
     "metadata": {},
     "output_type": "execute_result"
    },
    {
     "data": {
      "image/png": "[encoded data removed]",
      "text/plain": [
       "<Figure size 640x480 with 1 Axes>"
      ]
     },
     "metadata": {},
     "output_type": "display_data"
    }
   ],
   "source": [
    "plt.plot(df_scores.n_estimators, df_scores.rmse)"
   ]
  },
  {
   "cell_type": "markdown",
   "id": "890a584d-d802-40c0-a16c-fb393671f7ec",
   "metadata": {},
   "source": [
    "After which value of `n_estimators` does RMSE stop improving?\n",
    "Consider 3 decimal places for retrieving the answer.\n",
    "\n",
    "- 10\n",
    "- 25\n",
    "- 50 ✅\n",
    "- 160 "
   ]
  },
  {
   "cell_type": "markdown",
   "id": "a4435f08-2fcf-42d4-a031-7ef79eb3b02e",
   "metadata": {},
   "source": [
    "## Question 4\n",
    "\n",
    "Let's select the best `max_depth`:\n",
    "\n",
    "* Try different values of `max_depth`: `[10, 15, 20, 25]`\n",
    "* For each of these values,\n",
    "  * try different values of `n_estimators` from 10 till 200 (with step 10)\n",
    "  * calculate the mean RMSE \n",
    "* Fix the random seed: `random_state=1`"
   ]
  },
  {
   "cell_type": "code",
   "execution_count": null,
   "id": "2b5b16d5-bb7b-4a60-a054-70cd260cfc3c",
   "metadata": {},
   "outputs": [],
   "source": [
    "def rf_train_eval(d,n):\n",
    "    features = rf_prep_train_func(\n",
    "        in_df_train = art_df_train,\n",
    "        label = 'log_median_house_value',\n",
    "        out_rf = art_rf,\n",
    "        n_estimators = n,\n",
    "        max_depth = d,\n",
    "    )\n",
    "    rmse, _ = evaluate_func(\n",
    "        in_df_test = art_df_val, \n",
    "        label = 'log_median_house_value',\n",
    "        in_model = art_rf, \n",
    "    )\n",
    "    return rmse"
   ]
  },
  {
   "cell_type": "code",
   "execution_count": null,
   "id": "c2d8ccf9-fadc-4094-8913-1272f5d5fb8a",
   "metadata": {},
   "outputs": [],
   "source": [
    "scores = []\n",
    "\n",
    "for d in [10, 15, 20, 25]:\n",
    "    for n in range(10,201,10):\n",
    "        rmse = rf_train_eval(d=d,n=n)\n",
    "        scores.append((d,n,rmse))\n",
    "\n",
    "columns = ['max_depth', 'n_estimators', 'rmse']\n",
    "df_scores_rf = pd.DataFrame(scores, columns = columns)"
   ]
  },
  {
   "cell_type": "code",
   "execution_count": null,
   "id": "394a7256-9d7a-4dd2-ada1-3cc22886e2d7",
   "metadata": {},
   "outputs": [
    {
     "data": {
      "text/plain": [
       "<matplotlib.legend.Legend>"
      ]
     },
     "execution_count": null,
     "metadata": {},
     "output_type": "execute_result"
    },
    {
     "data": {
      "image/png": "[encoded data removed]",
      "text/plain": [
       "<Figure size 640x480 with 1 Axes>"
      ]
     },
     "metadata": {},
     "output_type": "display_data"
    }
   ],
   "source": [
    "for d in [10, 15, 20, 25]:\n",
    "    df_subset = df_scores_rf[df_scores_rf.max_depth==d]\n",
    "    plt.plot(df_subset.n_estimators, df_subset.rmse, label=f\"max_depth={d}\")\n",
    "\n",
    "plt.legend()"
   ]
  },
  {
   "cell_type": "code",
   "execution_count": null,
   "id": "842fc577-bec7-4a29-b470-2bfae44bcab1",
   "metadata": {},
   "outputs": [
    {
     "data": {
      "text/html": [
       "<div>\n",
       "<style scoped>\n",
       "    .dataframe tbody tr th:only-of-type {\n",
       "        vertical-align: middle;\n",
       "    }\n",
       "\n",
       "    .dataframe tbody tr th {\n",
       "        vertical-align: top;\n",
       "    }\n",
       "\n",
       "    .dataframe thead th {\n",
       "        text-align: right;\n",
       "    }\n",
       "</style>\n",
       "<table border=\"1\" class=\"dataframe\">\n",
       "  <thead>\n",
       "    <tr style=\"text-align: right;\">\n",
       "      <th></th>\n",
       "      <th>rmse</th>\n",
       "    </tr>\n",
       "    <tr>\n",
       "      <th>max_depth</th>\n",
       "      <th></th>\n",
       "    </tr>\n",
       "  </thead>\n",
       "  <tbody>\n",
       "    <tr>\n",
       "      <th>25</th>\n",
       "      <td>0.234769</td>\n",
       "    </tr>\n",
       "    <tr>\n",
       "      <th>20</th>\n",
       "      <td>0.235062</td>\n",
       "    </tr>\n",
       "    <tr>\n",
       "      <th>15</th>\n",
       "      <td>0.235787</td>\n",
       "    </tr>\n",
       "    <tr>\n",
       "      <th>10</th>\n",
       "      <td>0.245642</td>\n",
       "    </tr>\n",
       "  </tbody>\n",
       "</table>\n",
       "</div>"
      ],
      "text/plain": [
       "               rmse\n",
       "max_depth          \n",
       "25         0.234769\n",
       "20         0.235062\n",
       "15         0.235787\n",
       "10         0.245642"
      ]
     },
     "execution_count": null,
     "metadata": {},
     "output_type": "execute_result"
    }
   ],
   "source": [
    "df_scores_rf[['max_depth','rmse']].groupby('max_depth').mean().sort_values(by = 'rmse')"
   ]
  },
  {
   "cell_type": "markdown",
   "id": "b54eb6b9-2825-4e7e-a3da-ba5c8657d799",
   "metadata": {},
   "source": [
    "What's the best `max_depth`, using the mean RMSE?\n",
    "\n",
    "* 10\n",
    "* 15\n",
    "* 20\n",
    "* 25 ✅"
   ]
  },
  {
   "cell_type": "markdown",
   "id": "cc1e81ad-3a8d-4406-ba08-42578d3a415b",
   "metadata": {},
   "source": [
    "# Question 5\n",
    "\n",
    "We can extract feature importance information from tree-based models. \n",
    "\n",
    "At each step of the decision tree learning algorithm, it finds the best split. \n",
    "When doing it, we can calculate \"gain\" - the reduction in impurity before and after the split. \n",
    "This gain is quite useful in understanding what are the important features for tree-based models.\n",
    "\n",
    "In Scikit-Learn, tree-based models contain this information in the\n",
    "[`feature_importances_`](https://scikit-learn.org/stable/modules/generated/sklearn.ensemble.RandomForestRegressor.html#sklearn.ensemble.RandomForestRegressor.feature_importances_)\n",
    "field. \n",
    "\n",
    "For this homework question, we'll find the most important feature:\n",
    "\n",
    "* Train the model with these parameters:\n",
    "  * `n_estimators=10`,\n",
    "  * `max_depth=20`,\n",
    "  * `random_state=1`,\n",
    "  * `n_jobs=-1` (optional)"
   ]
  },
  {
   "cell_type": "code",
   "execution_count": null,
   "id": "eb7f9320-fda7-45d5-a533-f7b9c59b7fdd",
   "metadata": {},
   "outputs": [],
   "source": [
    "features = rf_prep_train_func(\n",
    "    in_df_train = art_df_train,\n",
    "    label = 'log_median_house_value',\n",
    "    out_rf = art_rf,\n",
    "    n_estimators = 10,\n",
    "    max_depth=20,\n",
    ")"
   ]
  },
  {
   "cell_type": "markdown",
   "id": "571fa0d5-a4dc-4974-bf17-58f067a9e7d4",
   "metadata": {},
   "source": [
    "* Get the feature importance information from this model"
   ]
  },
  {
   "cell_type": "code",
   "execution_count": null,
   "id": "8d3c50c2-6015-4975-abd0-d68a6a65cfb3",
   "metadata": {},
   "outputs": [],
   "source": [
    "rf = joblib.load(art_rf.uri + '.joblib')"
   ]
  },
  {
   "cell_type": "code",
   "execution_count": null,
   "id": "3e909db3-701c-431f-b07d-5847061407f7",
   "metadata": {},
   "outputs": [],
   "source": [
    "importances = rf.feature_importances_\n",
    "std = np.std([tree.feature_importances_ for tree in  rf.estimators_], axis=0)"
   ]
  },
  {
   "cell_type": "code",
   "execution_count": null,
   "id": "f761dc39-bb3e-4220-b593-e8f1b953e976",
   "metadata": {},
   "outputs": [
    {
     "data": {
      "image/png": "[encoded data removed]",
      "text/plain": [
       "<Figure size 640x480 with 1 Axes>"
      ]
     },
     "metadata": {},
     "output_type": "display_data"
    }
   ],
   "source": [
    "forest_importances = pd.Series(importances, index=features)\n",
    "\n",
    "fig, ax = plt.subplots()\n",
    "forest_importances.plot.bar(yerr=std, ax=ax)\n",
    "ax.set_title(\"Feature importances using MDI\")\n",
    "ax.set_ylabel(\"Mean decrease in impurity\")\n",
    "fig.tight_layout()"
   ]
  },
  {
   "cell_type": "markdown",
   "id": "c5a5e2e9-34b1-46d4-abf8-e8b67628d04e",
   "metadata": {},
   "source": [
    "What's the most important feature (among these 4)? \n",
    "\n",
    "* `total_rooms`\n",
    "* `median_income`✅\n",
    "* `total_bedrooms`\n",
    "* `longitude`"
   ]
  },
  {
   "cell_type": "markdown",
   "id": "1f4151a2-ec0f-42b5-b290-954e408f6bcc",
   "metadata": {},
   "source": [
    "## Question 6\n",
    "\n",
    "Now let's train an XGBoost model! For this question, we'll tune the `eta` parameter:\n",
    "\n",
    "* Install XGBoost\n",
    "* Create DMatrix for train and validation\n",
    "* Create a watchlist\n",
    "* Train a model with these parameters for 100 rounds:"
   ]
  },
  {
   "cell_type": "code",
   "execution_count": null,
   "id": "4117f2e1-7a38-4137-afdc-57365eb42338",
   "metadata": {},
   "outputs": [],
   "source": [
    "@component(\n",
    "    base_image=\"gcr.io/deeplearning-platform-release/base-cpu.py310:latest\",\n",
    "    packages_to_install = [\n",
    "        \"scikit-learn==1.3.1\",\n",
    "        \"xgboost==2.0.0\",\n",
    "    ],\n",
    ")\n",
    "def xgb_train(\n",
    "    in_df_train: Input[Dataset],\n",
    "    in_df_val: Input[Dataset],\n",
    "    \n",
    "    label: str,\n",
    "    \n",
    "    out_xgb_model: Output[Model],\n",
    "    \n",
    "    eta: float = 0.3,    \n",
    "    max_depth: int = 6,\n",
    "    min_child_weight: int = 1,\n",
    "\n",
    "    objective: str = 'reg:squarederror',\n",
    "    eval_metric: str = 'rmse',\n",
    "    \n",
    "    n_jobs: int = 8,\n",
    "    seed: int = 1, \n",
    "    verbosity: int = 1, # 0 (silent) - 3 (debug).\n",
    "\n",
    "    early_stopping_rounds: int = 100,\n",
    "    verbose_early: bool = False,\n",
    "):\n",
    "    import pandas as pd \n",
    "    import numpy as np\n",
    "\n",
    "    import joblib\n",
    "    import pickle\n",
    "\n",
    "    import xgboost as xgb\n",
    "\n",
    "    df_train = pd.read_pickle(in_df_train.uri + \".pkl\") \n",
    "    df_val = pd.read_pickle(in_df_val.uri + \".pkl\")\n",
    "\n",
    "    y_train = df_train[label].copy()\n",
    "    y_val = df_val[label].copy()\n",
    "\n",
    "    x_train = df_train.drop([label], axis=1)\n",
    "    x_val = df_val.drop([label], axis=1)\n",
    "    \n",
    "    features = x_train.columns.to_list()\n",
    "\n",
    "    xgb_model = xgb.XGBRegressor(\n",
    "        eta = eta,\n",
    "        max_depth = max_depth,\n",
    "        min_child_weight = min_child_weight,\n",
    "        \n",
    "        objective = objective,\n",
    "        eval_metric = eval_metric,\n",
    "        \n",
    "        n_jobs = n_jobs,\n",
    "        seed = seed,\n",
    "        verbosity = verbosity,\n",
    "    )\n",
    "    \n",
    "    xgb_model.fit(\n",
    "        x_train, \n",
    "        y_train,\n",
    "        early_stopping_rounds=early_stopping_rounds, \n",
    "        eval_set=[(x_train, y_train),(x_val, y_val)],\n",
    "        verbose=verbose_early,\n",
    "    )\n",
    "\n",
    "    eval_results = xgb_model.evals_result()\n",
    "\n",
    "    with open(out_xgb_model.uri+'.joblib', 'wb') as f:\n",
    "        pickle.dump(xgb_model, f)\n",
    "\n",
    "    return features, eval_results\n",
    "\n",
    "xgb_train_func = xgb_train.python_func"
   ]
  },
  {
   "cell_type": "code",
   "execution_count": null,
   "id": "89989536-0c49-486a-bc6b-8fbe0809c569",
   "metadata": {},
   "outputs": [],
   "source": [
    "art_xgb_model = Model(uri = artifacts_uri +'xgb_model')\n",
    "\n",
    "features, eval_results_03 = xgb_train_func(\n",
    "    in_df_train = art_df_train,\n",
    "    in_df_val = art_df_val,\n",
    "\n",
    "    label = 'log_median_house_value',\n",
    "\n",
    "    out_xgb_model = art_xgb_model,\n",
    ")\n",
    "_, eval_results_01 = xgb_train_func(\n",
    "    in_df_train = art_df_train,\n",
    "    in_df_val = art_df_val,\n",
    "\n",
    "    eta = 0.1,\n",
    "    \n",
    "    label = 'log_median_house_value',\n",
    "\n",
    "    out_xgb_model = art_xgb_model,\n",
    ")"
   ]
  },
  {
   "cell_type": "code",
   "execution_count": null,
   "id": "f1510a01-821b-409e-9f6a-510819bf45b4",
   "metadata": {},
   "outputs": [],
   "source": [
    "val_rmse_03 = list(eval_results_03['validation_1'].values())[0]\n",
    "val_rmse_01 = list(eval_results_01['validation_1'].values())[0]\n",
    "num_iter = range(len(val_rmse_03))"
   ]
  },
  {
   "cell_type": "code",
   "execution_count": null,
   "id": "6b54cb7a-0144-44de-848c-518078697b03",
   "metadata": {},
   "outputs": [
    {
     "data": {
      "text/plain": [
       "<matplotlib.legend.Legend>"
      ]
     },
     "execution_count": null,
     "metadata": {},
     "output_type": "execute_result"
    },
    {
     "data": {
      "image/png": "[encoded data removed]",
      "text/plain": [
       "<Figure size 640x480 with 1 Axes>"
      ]
     },
     "metadata": {},
     "output_type": "display_data"
    }
   ],
   "source": [
    "plt.plot(num_iter, val_rmse_03, label='val_03')\n",
    "plt.plot(num_iter, val_rmse_01, label='val_01')\n",
    "plt.legend()"
   ]
  },
  {
   "cell_type": "code",
   "execution_count": null,
   "id": "571abc39-cfc3-44ca-bb13-6dfd715a3659",
   "metadata": {},
   "outputs": [
    {
     "data": {
      "text/plain": [
       "0.23179766547455963"
      ]
     },
     "execution_count": null,
     "metadata": {},
     "output_type": "execute_result"
    }
   ],
   "source": [
    "val_rmse_01[-1]"
   ]
  },
  {
   "cell_type": "code",
   "execution_count": null,
   "id": "5131b821-3183-4288-bc91-7c9b5d0eab59",
   "metadata": {},
   "outputs": [
    {
     "data": {
      "text/plain": [
       "0.22842102378368334"
      ]
     },
     "execution_count": null,
     "metadata": {},
     "output_type": "execute_result"
    }
   ],
   "source": [
    "val_rmse_03[-1]"
   ]
  },
  {
   "cell_type": "markdown",
   "id": "ce91f5af-ddb9-445f-b280-838d00b71254",
   "metadata": {},
   "source": [
    "Now change `eta` from `0.3` to `0.1`.\n",
    "\n",
    "Which eta leads to the best RMSE score on the validation dataset?\n",
    "\n",
    "* 0.3\n",
    "* 0.1\n",
    "* Both give equal value"
   ]
  },
  {
   "cell_type": "code",
   "execution_count": null,
   "id": "74014652-7b44-424e-b74f-a98ebdbbeae0",
   "metadata": {},
   "outputs": [],
   "source": []
  }
 ],
 "metadata": {
  "kernelspec": {
   "display_name": "env-ml-zoomcamp",
   "language": "python",
   "name": "env-ml-zoomcamp"
  }
 },
 "nbformat": 4,
 "nbformat_minor": 5
}
