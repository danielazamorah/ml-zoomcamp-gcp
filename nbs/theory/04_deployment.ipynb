{
 "cells": [
  {
   "cell_type": "code",
   "execution_count": null,
   "id": "7c84985c-db03-4284-83a4-e74dd0547d92",
   "metadata": {},
   "outputs": [],
   "source": [
    "import warnings\n",
    "warnings.filterwarnings('ignore')"
   ]
  },
  {
   "cell_type": "code",
   "execution_count": null,
   "id": "18bb8383-cde7-4402-b4db-3de88dbc2c98",
   "metadata": {},
   "outputs": [],
   "source": [
    "import os\n",
    "\n",
    "from dotenv import load_dotenv\n",
    "load_dotenv()\n",
    "\n",
    "# Variables:\n",
    "PROJECT_ID=os.getenv('PROJECT_ID')\n",
    "BUCKET_NAME=os.getenv('BUCKET_NAME')\n",
    "USER=os.getenv('USER')\n",
    "LOCATION=os.getenv('LOCATION')\n",
    "SERVICE_ACCOUNT=os.getenv('SERVICE_ACCOUNT')"
   ]
  },
  {
   "cell_type": "markdown",
   "id": "ba9b2373-6da8-4914-b63b-f7f3bc15da46",
   "metadata": {},
   "source": [
    "# Model Deployment\n",
    "\n",
    "In this notebook, we'll test some modifications to the code in the \"Churn Prediction with Vertex\" notebook to add the validation and evaluation we implemented in the \"Eval Classification\" notebook. Also, making the necessary edits to prepare for model deployment (based on the [custom prediction lab](https://codelabs.developers.google.com/vertex-cpr-sklearn#4)).\n",
    "\n",
    "After the tests, we formalize this code on the \"src/theory/04_deployment\" directory, where we store our operational training code (vertex pipelines)."
   ]
  },
  {
   "cell_type": "code",
   "execution_count": null,
   "id": "984b30e5-567a-4ff9-a74f-275b80641d7e",
   "metadata": {},
   "outputs": [],
   "source": [
    "num_features = ['tenure', 'monthlycharges']\n",
    "cat_features = [ 'gender',\n",
    "                'seniorcitizen',\n",
    "                'partner',\n",
    "                'dependents',\n",
    "                'phoneservice',\n",
    "                'multiplelines',\n",
    "                'internetservice',\n",
    "                'onlinesecurity',\n",
    "                'onlinebackup',\n",
    "                'deviceprotection',\n",
    "                'techsupport',\n",
    "                'streamingtv',\n",
    "                'streamingmovies',\n",
    "                'contract',\n",
    "                'paperlessbilling',\n",
    "                'paymentmethod',\n",
    "                ]\n",
    "label = \"churn\"\n",
    "C = 1\n",
    "kfold_splits = 5"
   ]
  },
  {
   "cell_type": "markdown",
   "id": "3ad1ac76",
   "metadata": {},
   "source": [
    "### 1. Getting splitted data"
   ]
  },
  {
   "cell_type": "code",
   "execution_count": null,
   "id": "116b4820-5a1d-4c96-a092-ab492e5b1016",
   "metadata": {},
   "outputs": [],
   "source": [
    "import pandas as pd\n",
    "\n",
    "df_train_path = \"gs://dz-d-stg-us-ml-zoomcamp/04_deployment/pipeline_root/532579765435/pipeline-log-reg-20231014041425/split-data_1606769530544062464/out_df_train.pkl\"\n",
    "df_test_path = \"gs://dz-d-stg-us-ml-zoomcamp/04_deployment/pipeline_root/532579765435/pipeline-log-reg-20231014041425/split-data_1606769530544062464/out_df_test.pkl\"\n",
    "\n",
    "df_train = pd.read_pickle(df_train_path)\n",
    "df_test = pd.read_pickle(df_test_path)"
   ]
  },
  {
   "cell_type": "code",
   "execution_count": null,
   "id": "9f577e0a-fcb5-48b7-ae5c-0fecdef3c44c",
   "metadata": {},
   "outputs": [
    {
     "data": {
      "text/html": [
       "<div>\n",
       "<style scoped>\n",
       "    .dataframe tbody tr th:only-of-type {\n",
       "        vertical-align: middle;\n",
       "    }\n",
       "\n",
       "    .dataframe tbody tr th {\n",
       "        vertical-align: top;\n",
       "    }\n",
       "\n",
       "    .dataframe thead th {\n",
       "        text-align: right;\n",
       "    }\n",
       "</style>\n",
       "<table border=\"1\" class=\"dataframe\">\n",
       "  <thead>\n",
       "    <tr style=\"text-align: right;\">\n",
       "      <th></th>\n",
       "      <th>customerid</th>\n",
       "      <th>gender</th>\n",
       "      <th>seniorcitizen</th>\n",
       "      <th>partner</th>\n",
       "      <th>dependents</th>\n",
       "      <th>tenure</th>\n",
       "      <th>phoneservice</th>\n",
       "      <th>multiplelines</th>\n",
       "      <th>internetservice</th>\n",
       "      <th>onlinesecurity</th>\n",
       "      <th>...</th>\n",
       "      <th>deviceprotection</th>\n",
       "      <th>techsupport</th>\n",
       "      <th>streamingtv</th>\n",
       "      <th>streamingmovies</th>\n",
       "      <th>contract</th>\n",
       "      <th>paperlessbilling</th>\n",
       "      <th>paymentmethod</th>\n",
       "      <th>monthlycharges</th>\n",
       "      <th>totalcharges</th>\n",
       "      <th>churn</th>\n",
       "    </tr>\n",
       "  </thead>\n",
       "  <tbody>\n",
       "    <tr>\n",
       "      <th>0</th>\n",
       "      <td>5442-pptjy</td>\n",
       "      <td>male</td>\n",
       "      <td>0</td>\n",
       "      <td>yes</td>\n",
       "      <td>yes</td>\n",
       "      <td>12</td>\n",
       "      <td>yes</td>\n",
       "      <td>no</td>\n",
       "      <td>no</td>\n",
       "      <td>no internet service</td>\n",
       "      <td>...</td>\n",
       "      <td>no internet service</td>\n",
       "      <td>no internet service</td>\n",
       "      <td>no internet service</td>\n",
       "      <td>no internet service</td>\n",
       "      <td>two year</td>\n",
       "      <td>no</td>\n",
       "      <td>mailed check</td>\n",
       "      <td>19.70</td>\n",
       "      <td>258.35</td>\n",
       "      <td>0</td>\n",
       "    </tr>\n",
       "    <tr>\n",
       "      <th>1</th>\n",
       "      <td>6261-rcvns</td>\n",
       "      <td>female</td>\n",
       "      <td>0</td>\n",
       "      <td>no</td>\n",
       "      <td>no</td>\n",
       "      <td>42</td>\n",
       "      <td>yes</td>\n",
       "      <td>no</td>\n",
       "      <td>dsl</td>\n",
       "      <td>yes</td>\n",
       "      <td>...</td>\n",
       "      <td>yes</td>\n",
       "      <td>yes</td>\n",
       "      <td>no</td>\n",
       "      <td>yes</td>\n",
       "      <td>one year</td>\n",
       "      <td>no</td>\n",
       "      <td>credit card (automatic)</td>\n",
       "      <td>73.90</td>\n",
       "      <td>3160.55</td>\n",
       "      <td>1</td>\n",
       "    </tr>\n",
       "    <tr>\n",
       "      <th>2</th>\n",
       "      <td>2176-osjuv</td>\n",
       "      <td>male</td>\n",
       "      <td>0</td>\n",
       "      <td>yes</td>\n",
       "      <td>no</td>\n",
       "      <td>71</td>\n",
       "      <td>yes</td>\n",
       "      <td>yes</td>\n",
       "      <td>dsl</td>\n",
       "      <td>yes</td>\n",
       "      <td>...</td>\n",
       "      <td>no</td>\n",
       "      <td>yes</td>\n",
       "      <td>no</td>\n",
       "      <td>no</td>\n",
       "      <td>two year</td>\n",
       "      <td>no</td>\n",
       "      <td>bank transfer (automatic)</td>\n",
       "      <td>65.15</td>\n",
       "      <td>4681.75</td>\n",
       "      <td>0</td>\n",
       "    </tr>\n",
       "    <tr>\n",
       "      <th>3</th>\n",
       "      <td>6161-erdgd</td>\n",
       "      <td>male</td>\n",
       "      <td>0</td>\n",
       "      <td>yes</td>\n",
       "      <td>yes</td>\n",
       "      <td>71</td>\n",
       "      <td>yes</td>\n",
       "      <td>yes</td>\n",
       "      <td>dsl</td>\n",
       "      <td>yes</td>\n",
       "      <td>...</td>\n",
       "      <td>yes</td>\n",
       "      <td>yes</td>\n",
       "      <td>yes</td>\n",
       "      <td>yes</td>\n",
       "      <td>one year</td>\n",
       "      <td>no</td>\n",
       "      <td>electronic check</td>\n",
       "      <td>85.45</td>\n",
       "      <td>6300.85</td>\n",
       "      <td>0</td>\n",
       "    </tr>\n",
       "    <tr>\n",
       "      <th>4</th>\n",
       "      <td>2364-ufrom</td>\n",
       "      <td>male</td>\n",
       "      <td>0</td>\n",
       "      <td>no</td>\n",
       "      <td>no</td>\n",
       "      <td>30</td>\n",
       "      <td>yes</td>\n",
       "      <td>no</td>\n",
       "      <td>dsl</td>\n",
       "      <td>yes</td>\n",
       "      <td>...</td>\n",
       "      <td>no</td>\n",
       "      <td>yes</td>\n",
       "      <td>yes</td>\n",
       "      <td>no</td>\n",
       "      <td>one year</td>\n",
       "      <td>no</td>\n",
       "      <td>electronic check</td>\n",
       "      <td>70.40</td>\n",
       "      <td>2044.75</td>\n",
       "      <td>0</td>\n",
       "    </tr>\n",
       "  </tbody>\n",
       "</table>\n",
       "<p>5 rows × 21 columns</p>\n",
       "</div>"
      ],
      "text/plain": [
       "   customerid  gender  seniorcitizen partner dependents  tenure phoneservice  \\\n",
       "0  5442-pptjy    male              0     yes        yes      12          yes   \n",
       "1  6261-rcvns  female              0      no         no      42          yes   \n",
       "2  2176-osjuv    male              0     yes         no      71          yes   \n",
       "3  6161-erdgd    male              0     yes        yes      71          yes   \n",
       "4  2364-ufrom    male              0      no         no      30          yes   \n",
       "\n",
       "  multiplelines internetservice       onlinesecurity  ...  \\\n",
       "0            no              no  no internet service  ...   \n",
       "1            no             dsl                  yes  ...   \n",
       "2           yes             dsl                  yes  ...   \n",
       "3           yes             dsl                  yes  ...   \n",
       "4            no             dsl                  yes  ...   \n",
       "\n",
       "      deviceprotection          techsupport          streamingtv  \\\n",
       "0  no internet service  no internet service  no internet service   \n",
       "1                  yes                  yes                   no   \n",
       "2                   no                  yes                   no   \n",
       "3                  yes                  yes                  yes   \n",
       "4                   no                  yes                  yes   \n",
       "\n",
       "       streamingmovies  contract paperlessbilling              paymentmethod  \\\n",
       "0  no internet service  two year               no               mailed check   \n",
       "1                  yes  one year               no    credit card (automatic)   \n",
       "2                   no  two year               no  bank transfer (automatic)   \n",
       "3                  yes  one year               no           electronic check   \n",
       "4                   no  one year               no           electronic check   \n",
       "\n",
       "  monthlycharges  totalcharges  churn  \n",
       "0          19.70        258.35      0  \n",
       "1          73.90       3160.55      1  \n",
       "2          65.15       4681.75      0  \n",
       "3          85.45       6300.85      0  \n",
       "4          70.40       2044.75      0  \n",
       "\n",
       "[5 rows x 21 columns]"
      ]
     },
     "execution_count": null,
     "metadata": {},
     "output_type": "execute_result"
    }
   ],
   "source": [
    "df_train.head()"
   ]
  },
  {
   "cell_type": "markdown",
   "id": "d5798393",
   "metadata": {},
   "source": [
    "### 2. Training code with preprocessing and K-Folds evaluation"
   ]
  },
  {
   "cell_type": "code",
   "execution_count": null,
   "id": "5870bab9-7334-4842-ac4f-8c635a405bef",
   "metadata": {},
   "outputs": [],
   "source": [
    "from sklearn.preprocessing import OneHotEncoder\n",
    "from sklearn.compose import make_column_transformer\n",
    "from sklearn.linear_model import LogisticRegression\n",
    "from sklearn.model_selection import KFold\n",
    "from sklearn.metrics import roc_auc_score\n",
    "from sklearn.pipeline import make_pipeline\n",
    "\n",
    "y_train = df_train[label].copy()\n",
    "x_train = df_train[cat_features + num_features].copy()\n",
    "\n",
    "def train(x_train, y_train, cat_features):\n",
    "    ohe = OneHotEncoder(\n",
    "                drop='first', # Whether to drop one of the features\n",
    "                sparse=False, # Will return sparse matrix if set True\n",
    "                handle_unknown='error' # Whether to raise an error \n",
    "            ) \n",
    "    column_transform = make_column_transformer(\n",
    "                (ohe, cat_features),\n",
    "                remainder='passthrough',\n",
    "            )\n",
    "    regr = LogisticRegression(C=C, max_iter=1000)\n",
    "    my_pipeline = make_pipeline(column_transform, regr)\n",
    "    my_pipeline.fit(x_train, y_train)\n",
    "\n",
    "    return my_pipeline"
   ]
  },
  {
   "cell_type": "code",
   "execution_count": null,
   "id": "2f0dd3a2-0038-4bb5-b048-057ddbcad50b",
   "metadata": {},
   "outputs": [
    {
     "name": "stdout",
     "output_type": "stream",
     "text": [
      "auc on fold 0 is 0.8430619117520076\n",
      "auc on fold 1 is 0.8430526585882665\n",
      "auc on fold 2 is 0.8311097732289785\n",
      "auc on fold 3 is 0.8322788098740167\n",
      "auc on fold 4 is 0.8483731291769948\n"
     ]
    }
   ],
   "source": [
    "kfold = KFold(n_splits=kfold_splits, shuffle=True, random_state=1)\n",
    "k_folds_scores = []\n",
    "fold = 0\n",
    "\n",
    "# Validate:\n",
    "for train_idx, val_idx in kfold.split(x_train):\n",
    "    x = x_train.iloc[train_idx].copy()\n",
    "    x_val = df_train.iloc[val_idx].copy()\n",
    "    \n",
    "    y = y_train.iloc[train_idx]\n",
    "    y_val = y_train.iloc[val_idx]\n",
    "\n",
    "    my_pipeline = train(x, y, cat_features)\n",
    "\n",
    "    y_pred = my_pipeline.predict_proba(x_val)[:,1]\n",
    "\n",
    "    auc = roc_auc_score(y_val, y_pred)\n",
    "    k_folds_scores.append(auc)\n",
    "    \n",
    "    print(f'auc on fold {fold} is {auc}')\n",
    "    fold += 1"
   ]
  },
  {
   "cell_type": "code",
   "execution_count": null,
   "id": "68cdf9ad-d8d3-4301-84ac-f503ed80f9d5",
   "metadata": {},
   "outputs": [],
   "source": [
    "# Train:\n",
    "my_pipeline = train(x_train, y_train, cat_features)"
   ]
  },
  {
   "cell_type": "code",
   "execution_count": null,
   "id": "76e5e682-3e09-43ba-8e00-b79c9f327cc3",
   "metadata": {},
   "outputs": [
    {
     "data": {
      "text/plain": [
       "['model.joblib']"
      ]
     },
     "execution_count": null,
     "metadata": {},
     "output_type": "execute_result"
    }
   ],
   "source": [
    "import joblib\n",
    "\n",
    "joblib.dump(my_pipeline, 'model.joblib')"
   ]
  },
  {
   "cell_type": "code",
   "execution_count": null,
   "id": "26fed433-ad19-49ee-9c5d-d75eb0cc8f67",
   "metadata": {},
   "outputs": [
    {
     "name": "stdout",
     "output_type": "stream",
     "text": [
      "auc=0.8566481956948011\n"
     ]
    }
   ],
   "source": [
    "y_test = df_test[label].copy()\n",
    "x_test = df_test[cat_features + num_features].copy()\n",
    "\n",
    "new_pipeline = joblib.load('model.joblib')\n",
    "\n",
    "y_pred = new_pipeline.predict_proba(x_test)[:,1]\n",
    "\n",
    "auc = roc_auc_score(y_test, y_pred)\n",
    "print(f'auc={auc}')"
   ]
  },
  {
   "cell_type": "code",
   "execution_count": null,
   "id": "73f98be2-a8cb-45d7-b46e-ebc96aa75aab",
   "metadata": {},
   "outputs": [
    {
     "data": {
      "text/plain": [
       "gender                                 female\n",
       "seniorcitizen                               0\n",
       "partner                                    no\n",
       "dependents                                 no\n",
       "phoneservice                              yes\n",
       "multiplelines                              no\n",
       "internetservice                           dsl\n",
       "onlinesecurity                            yes\n",
       "onlinebackup                               no\n",
       "deviceprotection                          yes\n",
       "techsupport                               yes\n",
       "streamingtv                               yes\n",
       "streamingmovies                           yes\n",
       "contract                             one year\n",
       "paperlessbilling                          yes\n",
       "paymentmethod       bank transfer (automatic)\n",
       "tenure                                     41\n",
       "monthlycharges                          79.85\n",
       "Name: 0, dtype: object"
      ]
     },
     "execution_count": null,
     "metadata": {},
     "output_type": "execute_result"
    }
   ],
   "source": [
    "x_test.iloc[0]"
   ]
  },
  {
   "cell_type": "markdown",
   "id": "ade6b6e3-55b5-4973-a522-01224dd2f802",
   "metadata": {},
   "source": [
    "New prediction:"
   ]
  },
  {
   "cell_type": "code",
   "execution_count": null,
   "id": "904032d7-18fe-42cd-a32a-1a6d70f355c5",
   "metadata": {},
   "outputs": [],
   "source": [
    "customer = pd.json_normalize(\n",
    "    [{\n",
    "    \"gender\": \"female\",\n",
    "    \"seniorcitizen\": 0,\n",
    "    \"partner\": \"yes\",\n",
    "    \"dependents\": \"no\",\n",
    "    \"phoneservice\": \"no\",\n",
    "    \"multiplelines\": \"no phone service\",\n",
    "    \"internetservice\": \"dsl\",\n",
    "    \"onlinesecurity\": \"no\",\n",
    "    \"onlinebackup\": \"yes\",\n",
    "    \"deviceprotection\": \"no\",\n",
    "    \"techsupport\": \"no\",\n",
    "    \"streamingtv\": \"no\",\n",
    "    \"streamingmovies\": \"no\",\n",
    "    \"contract\": \"month-to-month\",\n",
    "    \"paperlessbilling\": \"yes\",\n",
    "    \"paymentmethod\": \"electronic check\",\n",
    "    \"tenure\": 24,\n",
    "    \"monthlycharges\": 29.85,\n",
    "},\n",
    "    ]\n",
    ")"
   ]
  },
  {
   "cell_type": "code",
   "execution_count": null,
   "id": "22745ab6-95ff-425d-bd67-205ee5b627bc",
   "metadata": {},
   "outputs": [
    {
     "data": {
      "text/html": [
       "<div>\n",
       "<style scoped>\n",
       "    .dataframe tbody tr th:only-of-type {\n",
       "        vertical-align: middle;\n",
       "    }\n",
       "\n",
       "    .dataframe tbody tr th {\n",
       "        vertical-align: top;\n",
       "    }\n",
       "\n",
       "    .dataframe thead th {\n",
       "        text-align: right;\n",
       "    }\n",
       "</style>\n",
       "<table border=\"1\" class=\"dataframe\">\n",
       "  <thead>\n",
       "    <tr style=\"text-align: right;\">\n",
       "      <th></th>\n",
       "      <th>gender</th>\n",
       "      <th>seniorcitizen</th>\n",
       "      <th>partner</th>\n",
       "      <th>dependents</th>\n",
       "      <th>phoneservice</th>\n",
       "      <th>multiplelines</th>\n",
       "      <th>internetservice</th>\n",
       "      <th>onlinesecurity</th>\n",
       "      <th>onlinebackup</th>\n",
       "      <th>deviceprotection</th>\n",
       "      <th>techsupport</th>\n",
       "      <th>streamingtv</th>\n",
       "      <th>streamingmovies</th>\n",
       "      <th>contract</th>\n",
       "      <th>paperlessbilling</th>\n",
       "      <th>paymentmethod</th>\n",
       "      <th>tenure</th>\n",
       "      <th>monthlycharges</th>\n",
       "    </tr>\n",
       "  </thead>\n",
       "  <tbody>\n",
       "    <tr>\n",
       "      <th>0</th>\n",
       "      <td>female</td>\n",
       "      <td>0</td>\n",
       "      <td>yes</td>\n",
       "      <td>no</td>\n",
       "      <td>no</td>\n",
       "      <td>no phone service</td>\n",
       "      <td>dsl</td>\n",
       "      <td>no</td>\n",
       "      <td>yes</td>\n",
       "      <td>no</td>\n",
       "      <td>no</td>\n",
       "      <td>no</td>\n",
       "      <td>no</td>\n",
       "      <td>month-to-month</td>\n",
       "      <td>yes</td>\n",
       "      <td>electronic check</td>\n",
       "      <td>24</td>\n",
       "      <td>29.85</td>\n",
       "    </tr>\n",
       "  </tbody>\n",
       "</table>\n",
       "</div>"
      ],
      "text/plain": [
       "   gender  seniorcitizen partner dependents phoneservice     multiplelines  \\\n",
       "0  female              0     yes         no           no  no phone service   \n",
       "\n",
       "  internetservice onlinesecurity onlinebackup deviceprotection techsupport  \\\n",
       "0             dsl             no          yes               no          no   \n",
       "\n",
       "  streamingtv streamingmovies        contract paperlessbilling  \\\n",
       "0          no              no  month-to-month              yes   \n",
       "\n",
       "      paymentmethod  tenure  monthlycharges  \n",
       "0  electronic check      24           29.85  "
      ]
     },
     "execution_count": null,
     "metadata": {},
     "output_type": "execute_result"
    }
   ],
   "source": [
    "customer"
   ]
  },
  {
   "cell_type": "code",
   "execution_count": null,
   "id": "87ccb368-1230-4983-9bcd-a0412b3ac5a8",
   "metadata": {},
   "outputs": [
    {
     "data": {
      "text/plain": [
       "array([0.36275167])"
      ]
     },
     "execution_count": null,
     "metadata": {},
     "output_type": "execute_result"
    }
   ],
   "source": [
    "new_pipeline.predict_proba(customer)[:,1]"
   ]
  },
  {
   "cell_type": "code",
   "execution_count": null,
   "id": "a132fa31-6e6c-4467-8116-22c69ac2fddd",
   "metadata": {},
   "outputs": [],
   "source": []
  }
 ],
 "metadata": {
  "kernelspec": {
   "display_name": "env-ml-zoomcamp",
   "language": "python",
   "name": "env-ml-zoomcamp"
  }
 },
 "nbformat": 4,
 "nbformat_minor": 5
}
