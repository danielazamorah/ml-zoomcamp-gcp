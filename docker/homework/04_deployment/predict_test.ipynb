{
 "cells": [
  {
   "cell_type": "code",
   "execution_count": null,
   "id": "24cc4543-4d7b-48e0-91e3-a3423635ba0b",
   "metadata": {},
   "outputs": [],
   "source": [
    "import warnings\n",
    "warnings.filterwarnings('ignore')"
   ]
  },
  {
   "cell_type": "markdown",
   "id": "4a22e3cf-ef15-4558-b769-2d22466a31da",
   "metadata": {},
   "source": [
    "## Predict from files"
   ]
  },
  {
   "cell_type": "code",
   "execution_count": null,
   "id": "1dda37e2-5a8a-4e28-af27-09ccd39bf95b",
   "metadata": {},
   "outputs": [],
   "source": [
    "import pickle\n",
    "\n",
    "model_file = 'model1.bin'\n",
    "dv_file = 'dv.bin'\n",
    "\n",
    "with open(model_file, 'rb') as f:\n",
    "    model = pickle.load(f)\n",
    "with open(dv_file, 'rb') as f:\n",
    "    dv = pickle.load(f)"
   ]
  },
  {
   "cell_type": "code",
   "execution_count": null,
   "id": "0c9296f9-9ab4-498a-a7b2-d374dceaf786",
   "metadata": {},
   "outputs": [],
   "source": [
    "client = {\"job\": \"retired\", \"duration\": 445, \"poutcome\": \"success\"}"
   ]
  },
  {
   "cell_type": "code",
   "execution_count": null,
   "id": "b472faf1-2e88-4174-b872-c6a6feea71f8",
   "metadata": {},
   "outputs": [
    {
     "data": {
      "text/plain": [
       "0.9019309332297606"
      ]
     },
     "execution_count": null,
     "metadata": {},
     "output_type": "execute_result"
    }
   ],
   "source": [
    "# Prepare data:\n",
    "X = dv.transform([client])\n",
    "\n",
    "# Prediction:\n",
    "y_pred = model.predict_proba(X)[0, 1]\n",
    "y_pred"
   ]
  },
  {
   "cell_type": "markdown",
   "id": "e7793858-1a85-4b08-ba29-1b4357f39f1a",
   "metadata": {},
   "source": [
    "## Predict with Request"
   ]
  },
  {
   "cell_type": "code",
   "execution_count": null,
   "id": "ac9ded67-3db1-4f0c-9dff-530201c47a8e",
   "metadata": {},
   "outputs": [],
   "source": [
    "import requests\n",
    "\n",
    "url = 'http://localhost:9696/predict'"
   ]
  },
  {
   "cell_type": "code",
   "execution_count": null,
   "id": "b4255c9e-20f4-43a5-ae57-54399bad2d05",
   "metadata": {},
   "outputs": [
    {
     "name": "stdout",
     "output_type": "stream",
     "text": [
      "{'credit': False, 'credit_probability': 0.13968947052356817}\n"
     ]
    }
   ],
   "source": [
    "client = {\"job\": \"unknown\", \"duration\": 270, \"poutcome\": \"failure\"}\n",
    "response = requests.post(url, json=client).json()\n",
    "print(response)"
   ]
  },
  {
   "cell_type": "code",
   "execution_count": null,
   "id": "545fc2af-c776-4057-aaba-07c2600098b0",
   "metadata": {},
   "outputs": [
    {
     "name": "stdout",
     "output_type": "stream",
     "text": [
      "Don't give credit\n"
     ]
    }
   ],
   "source": [
    "if response['credit']:\n",
    "    print('Give credit')\n",
    "else:\n",
    "    print(\"Don't give credit\")"
   ]
  },
  {
   "cell_type": "markdown",
   "id": "fd6e4183-b534-4eec-9040-a03048373458",
   "metadata": {},
   "source": [
    "## Predict with Docker Image"
   ]
  },
  {
   "cell_type": "code",
   "execution_count": null,
   "id": "7d179a62-1e6c-47b0-8df1-1dc0721c09f4",
   "metadata": {},
   "outputs": [
    {
     "name": "stdout",
     "output_type": "stream",
     "text": [
      "{'credit': True, 'credit_probability': 0.726936946355423}\n"
     ]
    }
   ],
   "source": [
    "client = {\"job\": \"retired\", \"duration\": 445, \"poutcome\": \"success\"}\n",
    "response = requests.post(url, json=client).json()\n",
    "print(response)"
   ]
  },
  {
   "cell_type": "code",
   "execution_count": null,
   "id": "ad8c24ed-d577-48f3-ba9d-8c142301f4fc",
   "metadata": {},
   "outputs": [],
   "source": []
  }
 ],
 "metadata": {
  "kernelspec": {
   "display_name": "env-ml-zoomcamp",
   "language": "python",
   "name": "env-ml-zoomcamp"
  }
 },
 "nbformat": 4,
 "nbformat_minor": 5
}
